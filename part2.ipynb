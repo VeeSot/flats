{
 "cells": [
  {
   "cell_type": "code",
   "execution_count": 1,
   "metadata": {},
   "outputs": [],
   "source": [
    "import pandas as pd\n",
    "import numpy as np\n",
    "%matplotlib inline\n",
    "import matplotlib\n",
    "import matplotlib.pyplot as plot\n",
    "import seaborn as sns\n",
    "from sklearn.metrics import r2_score\n",
    "from collections import Counter\n",
    "from sklearn.model_selection import train_test_split, KFold, cross_val_score"
   ]
  },
  {
   "cell_type": "code",
   "execution_count": 2,
   "metadata": {},
   "outputs": [],
   "source": [
    "def do_cross_validation(X, y, model):\n",
    "    regressor_name = model.__class__.__name__\n",
    "    fold = KFold(n_splits=10, shuffle=True, random_state=0)\n",
    "    scores_on_this_split = cross_val_score(estimator=model, X=X,y=y, cv=fold, scoring='r2')\n",
    "    scores_on_this_split = np.round(scores_on_this_split * 100, 2)\n",
    "    accuracy = scores_on_this_split.mean()\n",
    "    print(f'Cross validation for {regressor_name} - {accuracy}')\n",
    "    return accuracy\n",
    "\n"
   ]
  },
  {
   "cell_type": "code",
   "execution_count": 3,
   "metadata": {},
   "outputs": [],
   "source": [
    "def predict(X, y_test, model):\n",
    "    y = model.predict(X)\n",
    "    score = round((r2_score(y_test, y) * 100), 2)\n",
    "    print(f'Score {score}')\n"
   ]
  },
  {
   "cell_type": "code",
   "execution_count": 4,
   "metadata": {},
   "outputs": [],
   "source": [
    "df = pd.read_csv('flats2.csv')"
   ]
  },
  {
   "cell_type": "code",
   "execution_count": 5,
   "metadata": {},
   "outputs": [
    {
     "data": {
      "text/html": [
       "<div>\n",
       "<style scoped>\n",
       "    .dataframe tbody tr th:only-of-type {\n",
       "        vertical-align: middle;\n",
       "    }\n",
       "\n",
       "    .dataframe tbody tr th {\n",
       "        vertical-align: top;\n",
       "    }\n",
       "\n",
       "    .dataframe thead th {\n",
       "        text-align: right;\n",
       "    }\n",
       "</style>\n",
       "<table border=\"1\" class=\"dataframe\">\n",
       "  <thead>\n",
       "    <tr style=\"text-align: right;\">\n",
       "      <th></th>\n",
       "      <th>balcony</th>\n",
       "      <th>walls</th>\n",
       "      <th>total_area</th>\n",
       "      <th>district</th>\n",
       "      <th>age</th>\n",
       "      <th>repair</th>\n",
       "      <th>cost</th>\n",
       "      <th>num_of_stops_1km</th>\n",
       "      <th>num_of_shops_1km</th>\n",
       "      <th>metro</th>\n",
       "      <th>num_of_kindergarden_1km</th>\n",
       "      <th>num_of_medical_1km</th>\n",
       "      <th>num_of_education_1km</th>\n",
       "    </tr>\n",
       "  </thead>\n",
       "  <tbody>\n",
       "    <tr>\n",
       "      <th>0</th>\n",
       "      <td>1.0</td>\n",
       "      <td>0.7</td>\n",
       "      <td>30.0</td>\n",
       "      <td>2.0</td>\n",
       "      <td>56.0</td>\n",
       "      <td>0.8</td>\n",
       "      <td>2250000.0</td>\n",
       "      <td>0.0</td>\n",
       "      <td>0.0</td>\n",
       "      <td>749.751342</td>\n",
       "      <td>14.0</td>\n",
       "      <td>0.0</td>\n",
       "      <td>0.0</td>\n",
       "    </tr>\n",
       "    <tr>\n",
       "      <th>1</th>\n",
       "      <td>0.0</td>\n",
       "      <td>1.0</td>\n",
       "      <td>32.0</td>\n",
       "      <td>2.0</td>\n",
       "      <td>60.0</td>\n",
       "      <td>0.8</td>\n",
       "      <td>2090000.0</td>\n",
       "      <td>0.0</td>\n",
       "      <td>0.0</td>\n",
       "      <td>268.296095</td>\n",
       "      <td>13.0</td>\n",
       "      <td>0.0</td>\n",
       "      <td>0.0</td>\n",
       "    </tr>\n",
       "    <tr>\n",
       "      <th>2</th>\n",
       "      <td>0.0</td>\n",
       "      <td>0.9</td>\n",
       "      <td>42.0</td>\n",
       "      <td>1.0</td>\n",
       "      <td>2.0</td>\n",
       "      <td>1.0</td>\n",
       "      <td>2800000.0</td>\n",
       "      <td>0.0</td>\n",
       "      <td>0.0</td>\n",
       "      <td>1116.997438</td>\n",
       "      <td>7.0</td>\n",
       "      <td>1.0</td>\n",
       "      <td>1.0</td>\n",
       "    </tr>\n",
       "    <tr>\n",
       "      <th>3</th>\n",
       "      <td>1.0</td>\n",
       "      <td>0.7</td>\n",
       "      <td>34.0</td>\n",
       "      <td>3.0</td>\n",
       "      <td>18.0</td>\n",
       "      <td>0.8</td>\n",
       "      <td>2000000.0</td>\n",
       "      <td>0.0</td>\n",
       "      <td>0.0</td>\n",
       "      <td>7834.137018</td>\n",
       "      <td>4.0</td>\n",
       "      <td>0.0</td>\n",
       "      <td>0.0</td>\n",
       "    </tr>\n",
       "    <tr>\n",
       "      <th>4</th>\n",
       "      <td>1.0</td>\n",
       "      <td>0.7</td>\n",
       "      <td>34.0</td>\n",
       "      <td>2.0</td>\n",
       "      <td>13.0</td>\n",
       "      <td>1.0</td>\n",
       "      <td>2630000.0</td>\n",
       "      <td>0.0</td>\n",
       "      <td>0.0</td>\n",
       "      <td>1597.943201</td>\n",
       "      <td>12.0</td>\n",
       "      <td>0.0</td>\n",
       "      <td>0.0</td>\n",
       "    </tr>\n",
       "    <tr>\n",
       "      <th>5</th>\n",
       "      <td>1.0</td>\n",
       "      <td>0.9</td>\n",
       "      <td>43.0</td>\n",
       "      <td>2.0</td>\n",
       "      <td>6.0</td>\n",
       "      <td>0.7</td>\n",
       "      <td>2950000.0</td>\n",
       "      <td>0.0</td>\n",
       "      <td>0.0</td>\n",
       "      <td>6041.387354</td>\n",
       "      <td>5.0</td>\n",
       "      <td>1.0</td>\n",
       "      <td>0.0</td>\n",
       "    </tr>\n",
       "    <tr>\n",
       "      <th>6</th>\n",
       "      <td>1.0</td>\n",
       "      <td>0.9</td>\n",
       "      <td>43.0</td>\n",
       "      <td>2.0</td>\n",
       "      <td>3.0</td>\n",
       "      <td>1.0</td>\n",
       "      <td>2950000.0</td>\n",
       "      <td>0.0</td>\n",
       "      <td>0.0</td>\n",
       "      <td>4500.203545</td>\n",
       "      <td>0.0</td>\n",
       "      <td>0.0</td>\n",
       "      <td>0.0</td>\n",
       "    </tr>\n",
       "    <tr>\n",
       "      <th>7</th>\n",
       "      <td>1.0</td>\n",
       "      <td>0.7</td>\n",
       "      <td>35.0</td>\n",
       "      <td>2.0</td>\n",
       "      <td>37.0</td>\n",
       "      <td>1.0</td>\n",
       "      <td>2850000.0</td>\n",
       "      <td>0.0</td>\n",
       "      <td>0.0</td>\n",
       "      <td>4361.573945</td>\n",
       "      <td>10.0</td>\n",
       "      <td>1.0</td>\n",
       "      <td>0.0</td>\n",
       "    </tr>\n",
       "    <tr>\n",
       "      <th>8</th>\n",
       "      <td>1.0</td>\n",
       "      <td>0.9</td>\n",
       "      <td>33.0</td>\n",
       "      <td>1.0</td>\n",
       "      <td>9.0</td>\n",
       "      <td>0.8</td>\n",
       "      <td>3800000.0</td>\n",
       "      <td>0.0</td>\n",
       "      <td>0.0</td>\n",
       "      <td>185.973887</td>\n",
       "      <td>13.0</td>\n",
       "      <td>0.0</td>\n",
       "      <td>0.0</td>\n",
       "    </tr>\n",
       "    <tr>\n",
       "      <th>9</th>\n",
       "      <td>1.0</td>\n",
       "      <td>1.0</td>\n",
       "      <td>48.0</td>\n",
       "      <td>0.0</td>\n",
       "      <td>2.0</td>\n",
       "      <td>0.6</td>\n",
       "      <td>5250000.0</td>\n",
       "      <td>0.0</td>\n",
       "      <td>0.0</td>\n",
       "      <td>1121.358786</td>\n",
       "      <td>9.0</td>\n",
       "      <td>1.0</td>\n",
       "      <td>1.0</td>\n",
       "    </tr>\n",
       "  </tbody>\n",
       "</table>\n",
       "</div>"
      ],
      "text/plain": [
       "   balcony  walls  total_area  district   age  repair       cost  \\\n",
       "0      1.0    0.7        30.0       2.0  56.0     0.8  2250000.0   \n",
       "1      0.0    1.0        32.0       2.0  60.0     0.8  2090000.0   \n",
       "2      0.0    0.9        42.0       1.0   2.0     1.0  2800000.0   \n",
       "3      1.0    0.7        34.0       3.0  18.0     0.8  2000000.0   \n",
       "4      1.0    0.7        34.0       2.0  13.0     1.0  2630000.0   \n",
       "5      1.0    0.9        43.0       2.0   6.0     0.7  2950000.0   \n",
       "6      1.0    0.9        43.0       2.0   3.0     1.0  2950000.0   \n",
       "7      1.0    0.7        35.0       2.0  37.0     1.0  2850000.0   \n",
       "8      1.0    0.9        33.0       1.0   9.0     0.8  3800000.0   \n",
       "9      1.0    1.0        48.0       0.0   2.0     0.6  5250000.0   \n",
       "\n",
       "   num_of_stops_1km  num_of_shops_1km        metro  num_of_kindergarden_1km  \\\n",
       "0               0.0               0.0   749.751342                     14.0   \n",
       "1               0.0               0.0   268.296095                     13.0   \n",
       "2               0.0               0.0  1116.997438                      7.0   \n",
       "3               0.0               0.0  7834.137018                      4.0   \n",
       "4               0.0               0.0  1597.943201                     12.0   \n",
       "5               0.0               0.0  6041.387354                      5.0   \n",
       "6               0.0               0.0  4500.203545                      0.0   \n",
       "7               0.0               0.0  4361.573945                     10.0   \n",
       "8               0.0               0.0   185.973887                     13.0   \n",
       "9               0.0               0.0  1121.358786                      9.0   \n",
       "\n",
       "   num_of_medical_1km  num_of_education_1km  \n",
       "0                 0.0                   0.0  \n",
       "1                 0.0                   0.0  \n",
       "2                 1.0                   1.0  \n",
       "3                 0.0                   0.0  \n",
       "4                 0.0                   0.0  \n",
       "5                 1.0                   0.0  \n",
       "6                 0.0                   0.0  \n",
       "7                 1.0                   0.0  \n",
       "8                 0.0                   0.0  \n",
       "9                 1.0                   1.0  "
      ]
     },
     "execution_count": 5,
     "metadata": {},
     "output_type": "execute_result"
    }
   ],
   "source": [
    "df.head(10)"
   ]
  },
  {
   "cell_type": "code",
   "execution_count": 6,
   "metadata": {},
   "outputs": [
    {
     "data": {
      "text/html": [
       "<div>\n",
       "<style scoped>\n",
       "    .dataframe tbody tr th:only-of-type {\n",
       "        vertical-align: middle;\n",
       "    }\n",
       "\n",
       "    .dataframe tbody tr th {\n",
       "        vertical-align: top;\n",
       "    }\n",
       "\n",
       "    .dataframe thead th {\n",
       "        text-align: right;\n",
       "    }\n",
       "</style>\n",
       "<table border=\"1\" class=\"dataframe\">\n",
       "  <thead>\n",
       "    <tr style=\"text-align: right;\">\n",
       "      <th></th>\n",
       "      <th>balcony</th>\n",
       "      <th>walls</th>\n",
       "      <th>total_area</th>\n",
       "      <th>district</th>\n",
       "      <th>age</th>\n",
       "      <th>repair</th>\n",
       "      <th>cost</th>\n",
       "      <th>num_of_stops_1km</th>\n",
       "      <th>num_of_shops_1km</th>\n",
       "      <th>metro</th>\n",
       "      <th>num_of_kindergarden_1km</th>\n",
       "      <th>num_of_medical_1km</th>\n",
       "      <th>num_of_education_1km</th>\n",
       "    </tr>\n",
       "  </thead>\n",
       "  <tbody>\n",
       "    <tr>\n",
       "      <th>count</th>\n",
       "      <td>2020.000000</td>\n",
       "      <td>2020.000000</td>\n",
       "      <td>2020.000000</td>\n",
       "      <td>2020.000000</td>\n",
       "      <td>2020.000000</td>\n",
       "      <td>2020.000000</td>\n",
       "      <td>2.020000e+03</td>\n",
       "      <td>2020.000000</td>\n",
       "      <td>2020.000000</td>\n",
       "      <td>2020.000000</td>\n",
       "      <td>2020.000000</td>\n",
       "      <td>2020.000000</td>\n",
       "      <td>2020.000000</td>\n",
       "    </tr>\n",
       "    <tr>\n",
       "      <th>mean</th>\n",
       "      <td>0.823762</td>\n",
       "      <td>0.885198</td>\n",
       "      <td>35.801980</td>\n",
       "      <td>1.768812</td>\n",
       "      <td>21.821782</td>\n",
       "      <td>0.808515</td>\n",
       "      <td>2.800513e+06</td>\n",
       "      <td>0.076733</td>\n",
       "      <td>0.357426</td>\n",
       "      <td>3288.308324</td>\n",
       "      <td>8.244059</td>\n",
       "      <td>0.450990</td>\n",
       "      <td>0.112871</td>\n",
       "    </tr>\n",
       "    <tr>\n",
       "      <th>std</th>\n",
       "      <td>0.408709</td>\n",
       "      <td>0.116681</td>\n",
       "      <td>6.953564</td>\n",
       "      <td>0.850090</td>\n",
       "      <td>21.020001</td>\n",
       "      <td>0.140285</td>\n",
       "      <td>7.531591e+05</td>\n",
       "      <td>0.266233</td>\n",
       "      <td>1.442292</td>\n",
       "      <td>2337.891887</td>\n",
       "      <td>6.190179</td>\n",
       "      <td>0.497715</td>\n",
       "      <td>0.316514</td>\n",
       "    </tr>\n",
       "    <tr>\n",
       "      <th>min</th>\n",
       "      <td>0.000000</td>\n",
       "      <td>0.400000</td>\n",
       "      <td>20.000000</td>\n",
       "      <td>0.000000</td>\n",
       "      <td>0.000000</td>\n",
       "      <td>0.600000</td>\n",
       "      <td>7.800000e+05</td>\n",
       "      <td>0.000000</td>\n",
       "      <td>0.000000</td>\n",
       "      <td>45.716934</td>\n",
       "      <td>0.000000</td>\n",
       "      <td>0.000000</td>\n",
       "      <td>0.000000</td>\n",
       "    </tr>\n",
       "    <tr>\n",
       "      <th>25%</th>\n",
       "      <td>1.000000</td>\n",
       "      <td>0.800000</td>\n",
       "      <td>31.000000</td>\n",
       "      <td>1.000000</td>\n",
       "      <td>4.000000</td>\n",
       "      <td>0.700000</td>\n",
       "      <td>2.300000e+06</td>\n",
       "      <td>0.000000</td>\n",
       "      <td>0.000000</td>\n",
       "      <td>1222.742207</td>\n",
       "      <td>3.000000</td>\n",
       "      <td>0.000000</td>\n",
       "      <td>0.000000</td>\n",
       "    </tr>\n",
       "    <tr>\n",
       "      <th>50%</th>\n",
       "      <td>1.000000</td>\n",
       "      <td>0.900000</td>\n",
       "      <td>35.000000</td>\n",
       "      <td>2.000000</td>\n",
       "      <td>11.000000</td>\n",
       "      <td>0.800000</td>\n",
       "      <td>2.680000e+06</td>\n",
       "      <td>0.000000</td>\n",
       "      <td>0.000000</td>\n",
       "      <td>2745.077546</td>\n",
       "      <td>8.000000</td>\n",
       "      <td>0.000000</td>\n",
       "      <td>0.000000</td>\n",
       "    </tr>\n",
       "    <tr>\n",
       "      <th>75%</th>\n",
       "      <td>1.000000</td>\n",
       "      <td>1.000000</td>\n",
       "      <td>40.000000</td>\n",
       "      <td>2.000000</td>\n",
       "      <td>42.000000</td>\n",
       "      <td>1.000000</td>\n",
       "      <td>3.108000e+06</td>\n",
       "      <td>0.000000</td>\n",
       "      <td>0.000000</td>\n",
       "      <td>5212.114853</td>\n",
       "      <td>12.000000</td>\n",
       "      <td>1.000000</td>\n",
       "      <td>0.000000</td>\n",
       "    </tr>\n",
       "    <tr>\n",
       "      <th>max</th>\n",
       "      <td>3.000000</td>\n",
       "      <td>1.000000</td>\n",
       "      <td>59.000000</td>\n",
       "      <td>4.000000</td>\n",
       "      <td>94.000000</td>\n",
       "      <td>1.000000</td>\n",
       "      <td>5.300000e+06</td>\n",
       "      <td>1.000000</td>\n",
       "      <td>11.000000</td>\n",
       "      <td>11697.172979</td>\n",
       "      <td>31.000000</td>\n",
       "      <td>1.000000</td>\n",
       "      <td>1.000000</td>\n",
       "    </tr>\n",
       "  </tbody>\n",
       "</table>\n",
       "</div>"
      ],
      "text/plain": [
       "           balcony        walls   total_area     district          age  \\\n",
       "count  2020.000000  2020.000000  2020.000000  2020.000000  2020.000000   \n",
       "mean      0.823762     0.885198    35.801980     1.768812    21.821782   \n",
       "std       0.408709     0.116681     6.953564     0.850090    21.020001   \n",
       "min       0.000000     0.400000    20.000000     0.000000     0.000000   \n",
       "25%       1.000000     0.800000    31.000000     1.000000     4.000000   \n",
       "50%       1.000000     0.900000    35.000000     2.000000    11.000000   \n",
       "75%       1.000000     1.000000    40.000000     2.000000    42.000000   \n",
       "max       3.000000     1.000000    59.000000     4.000000    94.000000   \n",
       "\n",
       "            repair          cost  num_of_stops_1km  num_of_shops_1km  \\\n",
       "count  2020.000000  2.020000e+03       2020.000000       2020.000000   \n",
       "mean      0.808515  2.800513e+06          0.076733          0.357426   \n",
       "std       0.140285  7.531591e+05          0.266233          1.442292   \n",
       "min       0.600000  7.800000e+05          0.000000          0.000000   \n",
       "25%       0.700000  2.300000e+06          0.000000          0.000000   \n",
       "50%       0.800000  2.680000e+06          0.000000          0.000000   \n",
       "75%       1.000000  3.108000e+06          0.000000          0.000000   \n",
       "max       1.000000  5.300000e+06          1.000000         11.000000   \n",
       "\n",
       "              metro  num_of_kindergarden_1km  num_of_medical_1km  \\\n",
       "count   2020.000000              2020.000000         2020.000000   \n",
       "mean    3288.308324                 8.244059            0.450990   \n",
       "std     2337.891887                 6.190179            0.497715   \n",
       "min       45.716934                 0.000000            0.000000   \n",
       "25%     1222.742207                 3.000000            0.000000   \n",
       "50%     2745.077546                 8.000000            0.000000   \n",
       "75%     5212.114853                12.000000            1.000000   \n",
       "max    11697.172979                31.000000            1.000000   \n",
       "\n",
       "       num_of_education_1km  \n",
       "count           2020.000000  \n",
       "mean               0.112871  \n",
       "std                0.316514  \n",
       "min                0.000000  \n",
       "25%                0.000000  \n",
       "50%                0.000000  \n",
       "75%                0.000000  \n",
       "max                1.000000  "
      ]
     },
     "execution_count": 6,
     "metadata": {},
     "output_type": "execute_result"
    }
   ],
   "source": [
    "df.describe()"
   ]
  },
  {
   "cell_type": "code",
   "execution_count": 7,
   "metadata": {
    "scrolled": true
   },
   "outputs": [],
   "source": [
    "y = df.cost\n",
    "X = df.drop(columns=['cost'])"
   ]
  },
  {
   "cell_type": "code",
   "execution_count": 8,
   "metadata": {},
   "outputs": [],
   "source": [
    "\n",
    "X_train, X_test, y_train, y_test = train_test_split(X, y, test_size=0.2,\n",
    "                                                    random_state=42)"
   ]
  },
  {
   "cell_type": "code",
   "execution_count": 9,
   "metadata": {},
   "outputs": [
    {
     "name": "stdout",
     "output_type": "stream",
     "text": [
      "Cross validation for LinearRegression - 74.93300000000002\n"
     ]
    },
    {
     "data": {
      "text/plain": [
       "74.93300000000002"
      ]
     },
     "execution_count": 9,
     "metadata": {},
     "output_type": "execute_result"
    }
   ],
   "source": [
    "from sklearn.linear_model import LinearRegression\n",
    "regressor = LinearRegression()\n",
    "model =   regressor.fit(X_train, y_train)\n",
    "do_cross_validation(X_test, y_test, model)"
   ]
  },
  {
   "cell_type": "code",
   "execution_count": 10,
   "metadata": {},
   "outputs": [
    {
     "data": {
      "text/plain": [
       "<matplotlib.axes._subplots.AxesSubplot at 0x7f3a93a1df28>"
      ]
     },
     "execution_count": 10,
     "metadata": {},
     "output_type": "execute_result"
    },
    {
     "data": {
      "image/png": "[encoded data removed]",
      "text/plain": [
       "<Figure size 720x720 with 2 Axes>"
      ]
     },
     "metadata": {
      "needs_background": "light"
     },
     "output_type": "display_data"
    }
   ],
   "source": [
    "plot.figure(figsize=(10,10))\n",
    "corr = df.corr()*100.0\n",
    "sns.heatmap(corr[['cost']],\n",
    "            cmap= sns.diverging_palette(220, 10),\n",
    "            center=0,\n",
    "            linewidths=1, cbar_kws={\"shrink\": .7}, annot=True,\n",
    "            fmt=\".2f\")"
   ]
  },
  {
   "cell_type": "code",
   "execution_count": 11,
   "metadata": {},
   "outputs": [
    {
     "name": "stdout",
     "output_type": "stream",
     "text": [
      "Cross validation for DecisionTreeRegressor - 36.626\n",
      "Cross validation for DecisionTreeRegressor - 57.265\n",
      "Cross validation for DecisionTreeRegressor - 66.85400000000001\n",
      "Cross validation for DecisionTreeRegressor - 71.98300000000002\n",
      "Cross validation for DecisionTreeRegressor - 75.626\n",
      "Cross validation for DecisionTreeRegressor - 77.18300000000002\n",
      "Cross validation for DecisionTreeRegressor - 77.053\n",
      "Cross validation for DecisionTreeRegressor - 77.89500000000001\n",
      "Cross validation for DecisionTreeRegressor - 76.74199999999999\n",
      "Cross validation for DecisionTreeRegressor - 77.08700000000002\n",
      "Cross validation for DecisionTreeRegressor - 75.03699999999999\n",
      "Cross validation for DecisionTreeRegressor - 75.926\n",
      "Cross validation for DecisionTreeRegressor - 74.56800000000001\n",
      "Cross validation for DecisionTreeRegressor - 75.382\n",
      "Cross validation for DecisionTreeRegressor - 74.26199999999999\n",
      "Cross validation for DecisionTreeRegressor - 74.538\n",
      "Cross validation for DecisionTreeRegressor - 74.3\n",
      "Cross validation for DecisionTreeRegressor - 74.639\n",
      "Cross validation for DecisionTreeRegressor - 74.86500000000001\n",
      "Cross validation for DecisionTreeRegressor - 74.507\n",
      "Cross validation for DecisionTreeRegressor - 74.303\n",
      "Cross validation for DecisionTreeRegressor - 74.81400000000001\n",
      "Cross validation for DecisionTreeRegressor - 75.114\n",
      "Cross validation for DecisionTreeRegressor - 74.595\n",
      "Cross validation for DecisionTreeRegressor - 74.474\n",
      "Cross validation for DecisionTreeRegressor - 74.425\n",
      "Cross validation for DecisionTreeRegressor - 74.425\n",
      "Cross validation for DecisionTreeRegressor - 74.425\n",
      "Cross validation for DecisionTreeRegressor - 74.425\n",
      "Cross validation for DecisionTreeRegressor - 74.425\n",
      "Cross validation for DecisionTreeRegressor - 74.425\n",
      "8.0\n"
     ]
    },
    {
     "data": {
      "text/plain": [
       "<matplotlib.axes._subplots.AxesSubplot at 0x7f3a8c9200b8>"
      ]
     },
     "execution_count": 11,
     "metadata": {},
     "output_type": "execute_result"
    },
    {
     "data": {
      "image/png": "[encoded data removed]",
      "text/plain": [
       "<Figure size 720x720 with 1 Axes>"
      ]
     },
     "metadata": {
      "needs_background": "light"
     },
     "output_type": "display_data"
    }
   ],
   "source": [
    "from sklearn.tree import DecisionTreeRegressor\n",
    "\n",
    "data = []\n",
    "for x in range(1, 32):\n",
    "    regressor = DecisionTreeRegressor(max_depth=x, random_state=42)\n",
    "    model = regressor.fit(X_train, y_train)\n",
    "    accuracy = do_cross_validation(X, y, model)\n",
    "    data.append({'max_depth': x, 'accuracy': accuracy})\n",
    "\n",
    "data = pd.DataFrame(data)\n",
    "max_result = data.iloc[data['accuracy'].idxmax()]\n",
    "print(max_result.max_depth)\n",
    "\n",
    "f, ax = plot.subplots(figsize=(10, 10))\n",
    "ax.set_title(f'Max accuracy-{max_result.accuracy}\\nDepth {max_result.max_depth} ')\n",
    "sns.lineplot(x=\"max_depth\", y=\"accuracy\", data=data)\n",
    "\n"
   ]
  },
  {
   "cell_type": "code",
   "execution_count": 12,
   "metadata": {},
   "outputs": [
    {
     "data": {
      "image/svg+xml": [
       "<svg height=\"269pt\" viewBox=\"0.00 0.00 702.00 269.00\" width=\"702pt\" xmlns=\"http://www.w3.org/2000/svg\" xmlns:xlink=\"http://www.w3.org/1999/xlink\">\n",
       "<g class=\"graph\" id=\"graph0\" transform=\"scale(1 1) rotate(0) translate(4 265)\">\n",
       "<title>Tree</title>\n",
       "<polygon fill=\"#ffffff\" points=\"-4,4 -4,-265 698,-265 698,4 -4,4\" stroke=\"transparent\"/>\n",
       "<!-- 0 -->\n",
       "<g class=\"node\" id=\"node1\">\n",
       "<title>0</title>\n",
       "<polygon fill=\"#f7d9c3\" points=\"427,-261 267,-261 267,-193 427,-193 427,-261\" stroke=\"#000000\"/>\n",
       "<text fill=\"#000000\" font-family=\"Times,serif\" font-size=\"14.00\" text-anchor=\"middle\" x=\"347\" y=\"-245.8\">total_area &lt;= 37.5</text>\n",
       "<text fill=\"#000000\" font-family=\"Times,serif\" font-size=\"14.00\" text-anchor=\"middle\" x=\"347\" y=\"-230.8\">mse = 562949504510.626</text>\n",
       "<text fill=\"#000000\" font-family=\"Times,serif\" font-size=\"14.00\" text-anchor=\"middle\" x=\"347\" y=\"-215.8\">samples = 1616</text>\n",
       "<text fill=\"#000000\" font-family=\"Times,serif\" font-size=\"14.00\" text-anchor=\"middle\" x=\"347\" y=\"-200.8\">value = 2792382.536</text>\n",
       "</g>\n",
       "<!-- 1 -->\n",
       "<g class=\"node\" id=\"node2\">\n",
       "<title>1</title>\n",
       "<polygon fill=\"#fdf3ec\" points=\"338,-157 178,-157 178,-89 338,-89 338,-157\" stroke=\"#000000\"/>\n",
       "<text fill=\"#000000\" font-family=\"Times,serif\" font-size=\"14.00\" text-anchor=\"middle\" x=\"258\" y=\"-141.8\">total_area &lt;= 32.5</text>\n",
       "<text fill=\"#000000\" font-family=\"Times,serif\" font-size=\"14.00\" text-anchor=\"middle\" x=\"258\" y=\"-126.8\">mse = 221371685251.335</text>\n",
       "<text fill=\"#000000\" font-family=\"Times,serif\" font-size=\"14.00\" text-anchor=\"middle\" x=\"258\" y=\"-111.8\">samples = 1004</text>\n",
       "<text fill=\"#000000\" font-family=\"Times,serif\" font-size=\"14.00\" text-anchor=\"middle\" x=\"258\" y=\"-96.8\">value = 2425995.995</text>\n",
       "</g>\n",
       "<!-- 0&#45;&gt;1 -->\n",
       "<g class=\"edge\" id=\"edge1\">\n",
       "<title>0-&gt;1</title>\n",
       "<path d=\"M317.8581,-192.9465C310.1745,-183.968 301.7947,-174.1758 293.8041,-164.8385\" fill=\"none\" stroke=\"#000000\"/>\n",
       "<polygon fill=\"#000000\" points=\"296.3685,-162.4521 287.2074,-157.13 291.0501,-167.0034 296.3685,-162.4521\" stroke=\"#000000\"/>\n",
       "<text fill=\"#000000\" font-family=\"Times,serif\" font-size=\"14.00\" text-anchor=\"middle\" x=\"285.2702\" y=\"-178.3548\">True</text>\n",
       "</g>\n",
       "<!-- 4 -->\n",
       "<g class=\"node\" id=\"node5\">\n",
       "<title>4</title>\n",
       "<polygon fill=\"#eead7e\" points=\"516,-157 356,-157 356,-89 516,-89 516,-157\" stroke=\"#000000\"/>\n",
       "<text fill=\"#000000\" font-family=\"Times,serif\" font-size=\"14.00\" text-anchor=\"middle\" x=\"436\" y=\"-141.8\">district &lt;= 1.5</text>\n",
       "<text fill=\"#000000\" font-family=\"Times,serif\" font-size=\"14.00\" text-anchor=\"middle\" x=\"436\" y=\"-126.8\">mse = 541813683553.176</text>\n",
       "<text fill=\"#000000\" font-family=\"Times,serif\" font-size=\"14.00\" text-anchor=\"middle\" x=\"436\" y=\"-111.8\">samples = 612</text>\n",
       "<text fill=\"#000000\" font-family=\"Times,serif\" font-size=\"14.00\" text-anchor=\"middle\" x=\"436\" y=\"-96.8\">value = 3393448.038</text>\n",
       "</g>\n",
       "<!-- 0&#45;&gt;4 -->\n",
       "<g class=\"edge\" id=\"edge4\">\n",
       "<title>0-&gt;4</title>\n",
       "<path d=\"M376.1419,-192.9465C383.8255,-183.968 392.2053,-174.1758 400.1959,-164.8385\" fill=\"none\" stroke=\"#000000\"/>\n",
       "<polygon fill=\"#000000\" points=\"402.9499,-167.0034 406.7926,-157.13 397.6315,-162.4521 402.9499,-167.0034\" stroke=\"#000000\"/>\n",
       "<text fill=\"#000000\" font-family=\"Times,serif\" font-size=\"14.00\" text-anchor=\"middle\" x=\"408.7298\" y=\"-178.3548\">False</text>\n",
       "</g>\n",
       "<!-- 2 -->\n",
       "<g class=\"node\" id=\"node3\">\n",
       "<title>2</title>\n",
       "<polygon fill=\"#ffffff\" points=\"160,-53 0,-53 0,0 160,0 160,-53\" stroke=\"#000000\"/>\n",
       "<text fill=\"#000000\" font-family=\"Times,serif\" font-size=\"14.00\" text-anchor=\"middle\" x=\"80\" y=\"-37.8\">mse = 162400635189.048</text>\n",
       "<text fill=\"#000000\" font-family=\"Times,serif\" font-size=\"14.00\" text-anchor=\"middle\" x=\"80\" y=\"-22.8\">samples = 604</text>\n",
       "<text fill=\"#000000\" font-family=\"Times,serif\" font-size=\"14.00\" text-anchor=\"middle\" x=\"80\" y=\"-7.8\">value = 2263025.783</text>\n",
       "</g>\n",
       "<!-- 1&#45;&gt;2 -->\n",
       "<g class=\"edge\" id=\"edge2\">\n",
       "<title>1-&gt;2</title>\n",
       "<path d=\"M195.2439,-88.9777C176.5782,-78.8584 156.2212,-67.8222 137.8811,-57.8794\" fill=\"none\" stroke=\"#000000\"/>\n",
       "<polygon fill=\"#000000\" points=\"139.5154,-54.7842 129.0561,-53.095 136.1792,-60.938 139.5154,-54.7842\" stroke=\"#000000\"/>\n",
       "</g>\n",
       "<!-- 3 -->\n",
       "<g class=\"node\" id=\"node4\">\n",
       "<title>3</title>\n",
       "<polygon fill=\"#f9e1d0\" points=\"338,-53 178,-53 178,0 338,0 338,-53\" stroke=\"#000000\"/>\n",
       "<text fill=\"#000000\" font-family=\"Times,serif\" font-size=\"14.00\" text-anchor=\"middle\" x=\"258\" y=\"-37.8\">mse = 209755605933.414</text>\n",
       "<text fill=\"#000000\" font-family=\"Times,serif\" font-size=\"14.00\" text-anchor=\"middle\" x=\"258\" y=\"-22.8\">samples = 400</text>\n",
       "<text fill=\"#000000\" font-family=\"Times,serif\" font-size=\"14.00\" text-anchor=\"middle\" x=\"258\" y=\"-7.8\">value = 2672081.015</text>\n",
       "</g>\n",
       "<!-- 1&#45;&gt;3 -->\n",
       "<g class=\"edge\" id=\"edge3\">\n",
       "<title>1-&gt;3</title>\n",
       "<path d=\"M258,-88.9777C258,-80.7364 258,-71.887 258,-63.5153\" fill=\"none\" stroke=\"#000000\"/>\n",
       "<polygon fill=\"#000000\" points=\"261.5001,-63.2484 258,-53.2485 254.5001,-63.2485 261.5001,-63.2484\" stroke=\"#000000\"/>\n",
       "</g>\n",
       "<!-- 5 -->\n",
       "<g class=\"node\" id=\"node6\">\n",
       "<title>5</title>\n",
       "<polygon fill=\"#e58139\" points=\"516,-53 356,-53 356,0 516,0 516,-53\" stroke=\"#000000\"/>\n",
       "<text fill=\"#000000\" font-family=\"Times,serif\" font-size=\"14.00\" text-anchor=\"middle\" x=\"436\" y=\"-37.8\">mse = 470934529766.803</text>\n",
       "<text fill=\"#000000\" font-family=\"Times,serif\" font-size=\"14.00\" text-anchor=\"middle\" x=\"436\" y=\"-22.8\">samples = 248</text>\n",
       "<text fill=\"#000000\" font-family=\"Times,serif\" font-size=\"14.00\" text-anchor=\"middle\" x=\"436\" y=\"-7.8\">value = 3998038.302</text>\n",
       "</g>\n",
       "<!-- 4&#45;&gt;5 -->\n",
       "<g class=\"edge\" id=\"edge5\">\n",
       "<title>4-&gt;5</title>\n",
       "<path d=\"M436,-88.9777C436,-80.7364 436,-71.887 436,-63.5153\" fill=\"none\" stroke=\"#000000\"/>\n",
       "<polygon fill=\"#000000\" points=\"439.5001,-63.2484 436,-53.2485 432.5001,-63.2485 439.5001,-63.2484\" stroke=\"#000000\"/>\n",
       "</g>\n",
       "<!-- 6 -->\n",
       "<g class=\"node\" id=\"node7\">\n",
       "<title>6</title>\n",
       "<polygon fill=\"#f4cbad\" points=\"694,-53 534,-53 534,0 694,0 694,-53\" stroke=\"#000000\"/>\n",
       "<text fill=\"#000000\" font-family=\"Times,serif\" font-size=\"14.00\" text-anchor=\"middle\" x=\"614\" y=\"-37.8\">mse = 171386006690.842</text>\n",
       "<text fill=\"#000000\" font-family=\"Times,serif\" font-size=\"14.00\" text-anchor=\"middle\" x=\"614\" y=\"-22.8\">samples = 364</text>\n",
       "<text fill=\"#000000\" font-family=\"Times,serif\" font-size=\"14.00\" text-anchor=\"middle\" x=\"614\" y=\"-7.8\">value = 2981529.396</text>\n",
       "</g>\n",
       "<!-- 4&#45;&gt;6 -->\n",
       "<g class=\"edge\" id=\"edge6\">\n",
       "<title>4-&gt;6</title>\n",
       "<path d=\"M498.7561,-88.9777C517.4218,-78.8584 537.7788,-67.8222 556.1189,-57.8794\" fill=\"none\" stroke=\"#000000\"/>\n",
       "<polygon fill=\"#000000\" points=\"557.8208,-60.938 564.9439,-53.095 554.4846,-54.7842 557.8208,-60.938\" stroke=\"#000000\"/>\n",
       "</g>\n",
       "</g>\n",
       "</svg>"
      ],
      "text/plain": [
       "<IPython.core.display.SVG object>"
      ]
     },
     "execution_count": 12,
     "metadata": {},
     "output_type": "execute_result"
    }
   ],
   "source": [
    "from IPython.core.display import Image, SVG\n",
    "from sklearn.tree import  export_graphviz\n",
    "from graphviz import Source\n",
    "two_level_regressor = DecisionTreeRegressor(max_depth=2, random_state=42)\n",
    "two_level_regressor = two_level_regressor.fit(X_train, y_train)\n",
    "graph = Source(export_graphviz(two_level_regressor, out_file=None\n",
    "   , feature_names=X.columns\n",
    "   , filled = True))\n",
    "svg = graph.pipe(format='svg')\n",
    "SVG(svg)\n"
   ]
  },
  {
   "cell_type": "code",
   "execution_count": 13,
   "metadata": {},
   "outputs": [
    {
     "data": {
      "text/plain": [
       "<matplotlib.axes._subplots.AxesSubplot at 0x7f3a922d4978>"
      ]
     },
     "execution_count": 13,
     "metadata": {},
     "output_type": "execute_result"
    },
    {
     "data": {
      "image/png": "[encoded data removed]",
      "text/plain": [
       "<Figure size 864x864 with 1 Axes>"
      ]
     },
     "metadata": {
      "needs_background": "light"
     },
     "output_type": "display_data"
    }
   ],
   "source": [
    "pred_y = two_level_regressor.predict(X_test)\n",
    "errors = pd.DataFrame(data=pred_y,columns=['errors'])\n",
    "f, ax = plot.subplots(figsize=(12, 12))\n",
    "sns.countplot(x=\"errors\", data=errors)"
   ]
  },
  {
   "cell_type": "code",
   "execution_count": 14,
   "metadata": {},
   "outputs": [
    {
     "name": "stdout",
     "output_type": "stream",
     "text": [
      "Cross validation for RandomForestRegressor - 42.186\n",
      "Cross validation for RandomForestRegressor - 64.974\n",
      "Cross validation for RandomForestRegressor - 72.93\n",
      "Cross validation for RandomForestRegressor - 77.033\n",
      "Cross validation for RandomForestRegressor - 79.97\n",
      "Cross validation for RandomForestRegressor - 81.96000000000001\n",
      "Cross validation for RandomForestRegressor - 83.611\n",
      "Cross validation for RandomForestRegressor - 84.586\n",
      "Cross validation for RandomForestRegressor - 85.44300000000001\n",
      "Cross validation for RandomForestRegressor - 85.896\n",
      "Cross validation for RandomForestRegressor - 86.246\n",
      "Cross validation for RandomForestRegressor - 86.39399999999999\n",
      "Cross validation for RandomForestRegressor - 86.711\n",
      "Cross validation for RandomForestRegressor - 86.58099999999999\n",
      "Cross validation for RandomForestRegressor - 86.592\n",
      "Cross validation for RandomForestRegressor - 86.712\n",
      "Cross validation for RandomForestRegressor - 86.662\n",
      "Cross validation for RandomForestRegressor - 86.667\n",
      "Cross validation for RandomForestRegressor - 86.67999999999999\n",
      "Cross validation for RandomForestRegressor - 86.504\n",
      "Cross validation for RandomForestRegressor - 86.596\n",
      "Cross validation for RandomForestRegressor - 86.568\n",
      "Cross validation for RandomForestRegressor - 86.639\n",
      "Cross validation for RandomForestRegressor - 86.608\n",
      "Cross validation for RandomForestRegressor - 86.57199999999999\n",
      "Cross validation for RandomForestRegressor - 86.58000000000001\n",
      "Cross validation for RandomForestRegressor - 86.58500000000001\n",
      "Cross validation for RandomForestRegressor - 86.58800000000001\n",
      "Cross validation for RandomForestRegressor - 86.59100000000001\n",
      "Cross validation for RandomForestRegressor - 86.59\n",
      "Cross validation for RandomForestRegressor - 86.593\n"
     ]
    },
    {
     "data": {
      "text/plain": [
       "Text(0.5, 1.0, 'Max accuracy-86.712\\nDepth 16.0 ')"
      ]
     },
     "execution_count": 14,
     "metadata": {},
     "output_type": "execute_result"
    },
    {
     "data": {
      "image/png": "[encoded data removed]",
      "text/plain": [
       "<Figure size 720x720 with 1 Axes>"
      ]
     },
     "metadata": {
      "needs_background": "light"
     },
     "output_type": "display_data"
    }
   ],
   "source": [
    "from sklearn.ensemble import RandomForestRegressor\n",
    "data = []\n",
    "for x in range(1,32):\n",
    "    regressor = RandomForestRegressor(random_state=42, max_depth=x,\n",
    "                                      n_estimators=128,max_features=6)\n",
    "    model =   regressor.fit(X_train, y_train)\n",
    "    accuracy = do_cross_validation(X, y, model)\n",
    "    data.append({'max_depth':x,'accuracy':accuracy})\n",
    "data = pd.DataFrame(data)\n",
    "f, ax = plot.subplots(figsize=(10, 10))\n",
    "sns.lineplot(x=\"max_depth\", y=\"accuracy\", data=data)\n",
    "max_result = data.loc[data['accuracy'].idxmax()]\n",
    "\n",
    "ax.set_title(f'Max accuracy-{max_result.accuracy}\\nDepth {max_result.max_depth} ')"
   ]
  },
  {
   "cell_type": "code",
   "execution_count": 15,
   "metadata": {},
   "outputs": [
    {
     "name": "stdout",
     "output_type": "stream",
     "text": [
      "Cross validation for RandomForestRegressor - 86.712\n"
     ]
    }
   ],
   "source": [
    "regressor = RandomForestRegressor(random_state=42, max_depth=16, n_estimators=128,max_features=6)\n",
    "model =   regressor.fit(X_train, y_train)\n",
    "accuracy = do_cross_validation(X, y, model)\n",
    "\n"
   ]
  },
  {
   "cell_type": "code",
   "execution_count": 16,
   "metadata": {},
   "outputs": [
    {
     "data": {
      "text/plain": [
       "<matplotlib.axes._subplots.AxesSubplot at 0x7f3a8c991048>"
      ]
     },
     "execution_count": 16,
     "metadata": {},
     "output_type": "execute_result"
    },
    {
     "data": {
      "image/png": "[encoded data removed]",
      "text/plain": [
       "<Figure size 432x288 with 1 Axes>"
      ]
     },
     "metadata": {
      "needs_background": "light"
     },
     "output_type": "display_data"
    }
   ],
   "source": [
    "feat_importances = pd.Series(model.feature_importances_, index=X.columns)\n",
    "feat_importances.nlargest(5).plot(kind='barh')"
   ]
  },
  {
   "cell_type": "code",
   "execution_count": null,
   "metadata": {},
   "outputs": [],
   "source": []
  }
 ],
 "metadata": {
  "kernelspec": {
   "display_name": "Python 3",
   "language": "python",
   "name": "python3"
  },
  "language_info": {
   "codemirror_mode": {
    "name": "ipython",
    "version": 3
   },
   "file_extension": ".py",
   "mimetype": "text/x-python",
   "name": "python",
   "nbconvert_exporter": "python",
   "pygments_lexer": "ipython3",
   "version": "3.7.3"
  }
 },
 "nbformat": 4,
 "nbformat_minor": 2
}
