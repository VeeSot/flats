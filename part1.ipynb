{
 "cells": [
  {
   "cell_type": "code",
   "execution_count": 1,
   "metadata": {},
   "outputs": [],
   "source": [
    "#Standard toolset\n",
    "%matplotlib inline\n",
    "from sklearn.metrics import r2_score\n",
    "\n",
    "import numpy as np\n",
    "import matplotlib.pyplot as plot\n",
    "\n",
    "import seaborn as sns\n",
    "import matplotlib.pyplot as plt \n",
    "import warnings\n",
    "warnings.filterwarnings('ignore')\n"
   ]
  },
  {
   "cell_type": "code",
   "execution_count": 2,
   "metadata": {},
   "outputs": [
    {
     "data": {
      "text/plain": [
       "(2310, 11)"
      ]
     },
     "execution_count": 2,
     "metadata": {},
     "output_type": "execute_result"
    }
   ],
   "source": [
    "import pandas as pd\n",
    "df = pd.read_csv('flats.csv')\n",
    "df.shape"
   ]
  },
  {
   "cell_type": "code",
   "execution_count": 3,
   "metadata": {},
   "outputs": [
    {
     "data": {
      "text/html": [
       "<div>\n",
       "<style scoped>\n",
       "    .dataframe tbody tr th:only-of-type {\n",
       "        vertical-align: middle;\n",
       "    }\n",
       "\n",
       "    .dataframe tbody tr th {\n",
       "        vertical-align: top;\n",
       "    }\n",
       "\n",
       "    .dataframe thead th {\n",
       "        text-align: right;\n",
       "    }\n",
       "</style>\n",
       "<table border=\"1\" class=\"dataframe\">\n",
       "  <thead>\n",
       "    <tr style=\"text-align: right;\">\n",
       "      <th></th>\n",
       "      <th>balcony</th>\n",
       "      <th>total_area</th>\n",
       "      <th>year</th>\n",
       "      <th>cost</th>\n",
       "      <th>lon</th>\n",
       "      <th>lat</th>\n",
       "    </tr>\n",
       "  </thead>\n",
       "  <tbody>\n",
       "    <tr>\n",
       "      <th>count</th>\n",
       "      <td>1859.000000</td>\n",
       "      <td>2310.000000</td>\n",
       "      <td>2081.000000</td>\n",
       "      <td>2.310000e+03</td>\n",
       "      <td>2310.000000</td>\n",
       "      <td>2310.000000</td>\n",
       "    </tr>\n",
       "    <tr>\n",
       "      <th>mean</th>\n",
       "      <td>1.010758</td>\n",
       "      <td>36.169697</td>\n",
       "      <td>1997.595387</td>\n",
       "      <td>2.848634e+06</td>\n",
       "      <td>60.595955</td>\n",
       "      <td>56.823525</td>\n",
       "    </tr>\n",
       "    <tr>\n",
       "      <th>std</th>\n",
       "      <td>0.117804</td>\n",
       "      <td>7.792332</td>\n",
       "      <td>20.895129</td>\n",
       "      <td>9.269107e+05</td>\n",
       "      <td>0.060531</td>\n",
       "      <td>0.043765</td>\n",
       "    </tr>\n",
       "    <tr>\n",
       "      <th>min</th>\n",
       "      <td>1.000000</td>\n",
       "      <td>20.000000</td>\n",
       "      <td>1925.000000</td>\n",
       "      <td>7.800000e+05</td>\n",
       "      <td>60.407310</td>\n",
       "      <td>56.739841</td>\n",
       "    </tr>\n",
       "    <tr>\n",
       "      <th>25%</th>\n",
       "      <td>1.000000</td>\n",
       "      <td>31.000000</td>\n",
       "      <td>1977.000000</td>\n",
       "      <td>2.290000e+06</td>\n",
       "      <td>60.550942</td>\n",
       "      <td>56.790414</td>\n",
       "    </tr>\n",
       "    <tr>\n",
       "      <th>50%</th>\n",
       "      <td>1.000000</td>\n",
       "      <td>35.000000</td>\n",
       "      <td>2009.000000</td>\n",
       "      <td>2.680000e+06</td>\n",
       "      <td>60.601184</td>\n",
       "      <td>56.815863</td>\n",
       "    </tr>\n",
       "    <tr>\n",
       "      <th>75%</th>\n",
       "      <td>1.000000</td>\n",
       "      <td>40.000000</td>\n",
       "      <td>2015.000000</td>\n",
       "      <td>3.150000e+06</td>\n",
       "      <td>60.633243</td>\n",
       "      <td>56.856063</td>\n",
       "    </tr>\n",
       "    <tr>\n",
       "      <th>max</th>\n",
       "      <td>3.000000</td>\n",
       "      <td>106.000000</td>\n",
       "      <td>2019.000000</td>\n",
       "      <td>1.390000e+07</td>\n",
       "      <td>60.782653</td>\n",
       "      <td>56.958709</td>\n",
       "    </tr>\n",
       "  </tbody>\n",
       "</table>\n",
       "</div>"
      ],
      "text/plain": [
       "           balcony   total_area         year          cost          lon  \\\n",
       "count  1859.000000  2310.000000  2081.000000  2.310000e+03  2310.000000   \n",
       "mean      1.010758    36.169697  1997.595387  2.848634e+06    60.595955   \n",
       "std       0.117804     7.792332    20.895129  9.269107e+05     0.060531   \n",
       "min       1.000000    20.000000  1925.000000  7.800000e+05    60.407310   \n",
       "25%       1.000000    31.000000  1977.000000  2.290000e+06    60.550942   \n",
       "50%       1.000000    35.000000  2009.000000  2.680000e+06    60.601184   \n",
       "75%       1.000000    40.000000  2015.000000  3.150000e+06    60.633243   \n",
       "max       3.000000   106.000000  2019.000000  1.390000e+07    60.782653   \n",
       "\n",
       "               lat  \n",
       "count  2310.000000  \n",
       "mean     56.823525  \n",
       "std       0.043765  \n",
       "min      56.739841  \n",
       "25%      56.790414  \n",
       "50%      56.815863  \n",
       "75%      56.856063  \n",
       "max      56.958709  "
      ]
     },
     "execution_count": 3,
     "metadata": {},
     "output_type": "execute_result"
    }
   ],
   "source": [
    "df.describe()"
   ]
  },
  {
   "cell_type": "code",
   "execution_count": 4,
   "metadata": {},
   "outputs": [],
   "source": [
    "df = df[df.total_area >= 20]\n"
   ]
  },
  {
   "cell_type": "code",
   "execution_count": 5,
   "metadata": {},
   "outputs": [],
   "source": [
    "numerical_fields = ['total_area','cost']"
   ]
  },
  {
   "cell_type": "code",
   "execution_count": 6,
   "metadata": {
    "scrolled": false
   },
   "outputs": [
    {
     "data": {
      "image/png": "[encoded data removed]",
      "text/plain": [
       "<Figure size 432x288 with 1 Axes>"
      ]
     },
     "metadata": {
      "needs_background": "light"
     },
     "output_type": "display_data"
    },
    {
     "data": {
      "image/png": "[encoded data removed]",
      "text/plain": [
       "<Figure size 432x288 with 1 Axes>"
      ]
     },
     "metadata": {
      "needs_background": "light"
     },
     "output_type": "display_data"
    }
   ],
   "source": [
    "for col in numerical_fields:\n",
    "    mask = ~np.isnan(df[col])\n",
    "    sns.distplot(df[col][mask],  color=\"r\",label=col)\n",
    "    plot.show()\n",
    "\n"
   ]
  },
  {
   "cell_type": "code",
   "execution_count": 7,
   "metadata": {},
   "outputs": [
    {
     "data": {
      "text/plain": [
       "<seaborn.axisgrid.PairGrid at 0x7f0d5a5b63c8>"
      ]
     },
     "execution_count": 7,
     "metadata": {},
     "output_type": "execute_result"
    },
    {
     "data": {
      "image/png": "[encoded data removed]",
      "text/plain": [
       "<Figure size 360x360 with 6 Axes>"
      ]
     },
     "metadata": {
      "needs_background": "light"
     },
     "output_type": "display_data"
    }
   ],
   "source": [
    "sns.pairplot(df[numerical_fields])"
   ]
  },
  {
   "cell_type": "code",
   "execution_count": 8,
   "metadata": {},
   "outputs": [],
   "source": [
    "df = df[abs(df.total_area - df.total_area.mean()) <= (3 * df.total_area.std())]\n",
    "df = df[abs(df.cost - df.cost.mean()) <= (3 * df.cost.std())]"
   ]
  },
  {
   "cell_type": "code",
   "execution_count": null,
   "metadata": {},
   "outputs": [],
   "source": []
  },
  {
   "cell_type": "code",
   "execution_count": 9,
   "metadata": {},
   "outputs": [
    {
     "data": {
      "text/plain": [
       "<seaborn.axisgrid.PairGrid at 0x7f0d5a5b6be0>"
      ]
     },
     "execution_count": 9,
     "metadata": {},
     "output_type": "execute_result"
    },
    {
     "data": {
      "image/png": "[encoded data removed]",
      "text/plain": [
       "<Figure size 360x360 with 6 Axes>"
      ]
     },
     "metadata": {
      "needs_background": "light"
     },
     "output_type": "display_data"
    }
   ],
   "source": [
    "sns.pairplot(df[numerical_fields])"
   ]
  },
  {
   "cell_type": "code",
   "execution_count": 10,
   "metadata": {},
   "outputs": [
    {
     "data": {
      "text/html": [
       "<div>\n",
       "<style scoped>\n",
       "    .dataframe tbody tr th:only-of-type {\n",
       "        vertical-align: middle;\n",
       "    }\n",
       "\n",
       "    .dataframe tbody tr th {\n",
       "        vertical-align: top;\n",
       "    }\n",
       "\n",
       "    .dataframe thead th {\n",
       "        text-align: right;\n",
       "    }\n",
       "</style>\n",
       "<table border=\"1\" class=\"dataframe\">\n",
       "  <thead>\n",
       "    <tr style=\"text-align: right;\">\n",
       "      <th></th>\n",
       "      <th>balcony</th>\n",
       "      <th>walls</th>\n",
       "      <th>total_area</th>\n",
       "      <th>district</th>\n",
       "      <th>year</th>\n",
       "      <th>cost</th>\n",
       "      <th>description</th>\n",
       "      <th>lon</th>\n",
       "      <th>lat</th>\n",
       "      <th>type_house</th>\n",
       "      <th>repair</th>\n",
       "    </tr>\n",
       "  </thead>\n",
       "  <tbody>\n",
       "    <tr>\n",
       "      <th>0</th>\n",
       "      <td>1.0</td>\n",
       "      <td>Панельный</td>\n",
       "      <td>30</td>\n",
       "      <td>Уралмаш</td>\n",
       "      <td>1963.0</td>\n",
       "      <td>2250000</td>\n",
       "      <td>NaN</td>\n",
       "      <td>60.600987</td>\n",
       "      <td>56.890172</td>\n",
       "      <td>NaN</td>\n",
       "      <td>Хорошее</td>\n",
       "    </tr>\n",
       "    <tr>\n",
       "      <th>1</th>\n",
       "      <td>NaN</td>\n",
       "      <td>Кирпичный</td>\n",
       "      <td>32</td>\n",
       "      <td>Эльмаш</td>\n",
       "      <td>1959.0</td>\n",
       "      <td>2090000</td>\n",
       "      <td>Продается отличная,теплая, уютная однокомнатна...</td>\n",
       "      <td>60.615153</td>\n",
       "      <td>56.884861</td>\n",
       "      <td>NaN</td>\n",
       "      <td>Хорошее</td>\n",
       "    </tr>\n",
       "    <tr>\n",
       "      <th>2</th>\n",
       "      <td>NaN</td>\n",
       "      <td>NaN</td>\n",
       "      <td>42</td>\n",
       "      <td>Ботанический</td>\n",
       "      <td>2017.0</td>\n",
       "      <td>2800000</td>\n",
       "      <td>Квартира с хорошим ремонтом.</td>\n",
       "      <td>60.615800</td>\n",
       "      <td>56.790526</td>\n",
       "      <td>NaN</td>\n",
       "      <td>В</td>\n",
       "    </tr>\n",
       "    <tr>\n",
       "      <th>3</th>\n",
       "      <td>1.0</td>\n",
       "      <td>NaN</td>\n",
       "      <td>29</td>\n",
       "      <td>Ю-З</td>\n",
       "      <td>NaN</td>\n",
       "      <td>2200000</td>\n",
       "      <td>Продается светлая,теплая квартира в районе Бур...</td>\n",
       "      <td>60.572762</td>\n",
       "      <td>56.823636</td>\n",
       "      <td>NaN</td>\n",
       "      <td>NaN</td>\n",
       "    </tr>\n",
       "    <tr>\n",
       "      <th>4</th>\n",
       "      <td>1.0</td>\n",
       "      <td>Панельный</td>\n",
       "      <td>34</td>\n",
       "      <td>Компрессорный</td>\n",
       "      <td>2001.0</td>\n",
       "      <td>2000000</td>\n",
       "      <td>Уютная, теплая, светлая однокомнатная квартира...</td>\n",
       "      <td>60.763187</td>\n",
       "      <td>56.796718</td>\n",
       "      <td>Улучшенной</td>\n",
       "      <td>Хорошее</td>\n",
       "    </tr>\n",
       "  </tbody>\n",
       "</table>\n",
       "</div>"
      ],
      "text/plain": [
       "   balcony      walls  total_area       district    year     cost  \\\n",
       "0      1.0  Панельный          30        Уралмаш  1963.0  2250000   \n",
       "1      NaN  Кирпичный          32         Эльмаш  1959.0  2090000   \n",
       "2      NaN        NaN          42   Ботанический  2017.0  2800000   \n",
       "3      1.0        NaN          29            Ю-З     NaN  2200000   \n",
       "4      1.0  Панельный          34  Компрессорный  2001.0  2000000   \n",
       "\n",
       "                                         description        lon        lat  \\\n",
       "0                                                NaN  60.600987  56.890172   \n",
       "1  Продается отличная,теплая, уютная однокомнатна...  60.615153  56.884861   \n",
       "2                       Квартира с хорошим ремонтом.  60.615800  56.790526   \n",
       "3  Продается светлая,теплая квартира в районе Бур...  60.572762  56.823636   \n",
       "4  Уютная, теплая, светлая однокомнатная квартира...  60.763187  56.796718   \n",
       "\n",
       "   type_house   repair  \n",
       "0         NaN  Хорошее  \n",
       "1         NaN  Хорошее  \n",
       "2         NaN        В  \n",
       "3         NaN      NaN  \n",
       "4  Улучшенной  Хорошее  "
      ]
     },
     "execution_count": 10,
     "metadata": {},
     "output_type": "execute_result"
    }
   ],
   "source": [
    "df.head()"
   ]
  },
  {
   "cell_type": "code",
   "execution_count": 11,
   "metadata": {},
   "outputs": [],
   "source": [
    "df['age'] = 2019 -df['year']"
   ]
  },
  {
   "cell_type": "code",
   "execution_count": null,
   "metadata": {},
   "outputs": [],
   "source": []
  },
  {
   "cell_type": "code",
   "execution_count": 12,
   "metadata": {},
   "outputs": [],
   "source": [
    "flats_on_map = df[[\"lon\",\"lat\",\"cost\"]]"
   ]
  },
  {
   "cell_type": "code",
   "execution_count": 13,
   "metadata": {},
   "outputs": [],
   "source": [
    "flats_on_map.to_csv(\"on_map.csv\",index=False)"
   ]
  },
  {
   "cell_type": "code",
   "execution_count": 14,
   "metadata": {},
   "outputs": [],
   "source": [
    "df.drop(columns=[\"lon\",\"lat\",\"description\"],inplace=True)"
   ]
  },
  {
   "cell_type": "code",
   "execution_count": 15,
   "metadata": {},
   "outputs": [
    {
     "data": {
      "text/html": [
       "<div>\n",
       "<style scoped>\n",
       "    .dataframe tbody tr th:only-of-type {\n",
       "        vertical-align: middle;\n",
       "    }\n",
       "\n",
       "    .dataframe tbody tr th {\n",
       "        vertical-align: top;\n",
       "    }\n",
       "\n",
       "    .dataframe thead th {\n",
       "        text-align: right;\n",
       "    }\n",
       "</style>\n",
       "<table border=\"1\" class=\"dataframe\">\n",
       "  <thead>\n",
       "    <tr style=\"text-align: right;\">\n",
       "      <th></th>\n",
       "      <th>balcony</th>\n",
       "      <th>walls</th>\n",
       "      <th>total_area</th>\n",
       "      <th>district</th>\n",
       "      <th>year</th>\n",
       "      <th>cost</th>\n",
       "      <th>type_house</th>\n",
       "      <th>repair</th>\n",
       "      <th>age</th>\n",
       "    </tr>\n",
       "  </thead>\n",
       "  <tbody>\n",
       "    <tr>\n",
       "      <th>0</th>\n",
       "      <td>1.0</td>\n",
       "      <td>Панельный</td>\n",
       "      <td>30</td>\n",
       "      <td>Уралмаш</td>\n",
       "      <td>1963.0</td>\n",
       "      <td>2250000</td>\n",
       "      <td>NaN</td>\n",
       "      <td>Хорошее</td>\n",
       "      <td>56.0</td>\n",
       "    </tr>\n",
       "    <tr>\n",
       "      <th>1</th>\n",
       "      <td>NaN</td>\n",
       "      <td>Кирпичный</td>\n",
       "      <td>32</td>\n",
       "      <td>Эльмаш</td>\n",
       "      <td>1959.0</td>\n",
       "      <td>2090000</td>\n",
       "      <td>NaN</td>\n",
       "      <td>Хорошее</td>\n",
       "      <td>60.0</td>\n",
       "    </tr>\n",
       "    <tr>\n",
       "      <th>2</th>\n",
       "      <td>NaN</td>\n",
       "      <td>NaN</td>\n",
       "      <td>42</td>\n",
       "      <td>Ботанический</td>\n",
       "      <td>2017.0</td>\n",
       "      <td>2800000</td>\n",
       "      <td>NaN</td>\n",
       "      <td>В</td>\n",
       "      <td>2.0</td>\n",
       "    </tr>\n",
       "    <tr>\n",
       "      <th>3</th>\n",
       "      <td>1.0</td>\n",
       "      <td>NaN</td>\n",
       "      <td>29</td>\n",
       "      <td>Ю-З</td>\n",
       "      <td>NaN</td>\n",
       "      <td>2200000</td>\n",
       "      <td>NaN</td>\n",
       "      <td>NaN</td>\n",
       "      <td>NaN</td>\n",
       "    </tr>\n",
       "    <tr>\n",
       "      <th>4</th>\n",
       "      <td>1.0</td>\n",
       "      <td>Панельный</td>\n",
       "      <td>34</td>\n",
       "      <td>Компрессорный</td>\n",
       "      <td>2001.0</td>\n",
       "      <td>2000000</td>\n",
       "      <td>Улучшенной</td>\n",
       "      <td>Хорошее</td>\n",
       "      <td>18.0</td>\n",
       "    </tr>\n",
       "  </tbody>\n",
       "</table>\n",
       "</div>"
      ],
      "text/plain": [
       "   balcony      walls  total_area       district    year     cost  type_house  \\\n",
       "0      1.0  Панельный          30        Уралмаш  1963.0  2250000         NaN   \n",
       "1      NaN  Кирпичный          32         Эльмаш  1959.0  2090000         NaN   \n",
       "2      NaN        NaN          42   Ботанический  2017.0  2800000         NaN   \n",
       "3      1.0        NaN          29            Ю-З     NaN  2200000         NaN   \n",
       "4      1.0  Панельный          34  Компрессорный  2001.0  2000000  Улучшенной   \n",
       "\n",
       "    repair   age  \n",
       "0  Хорошее  56.0  \n",
       "1  Хорошее  60.0  \n",
       "2        В   2.0  \n",
       "3      NaN   NaN  \n",
       "4  Хорошее  18.0  "
      ]
     },
     "execution_count": 15,
     "metadata": {},
     "output_type": "execute_result"
    }
   ],
   "source": [
    "df.head()"
   ]
  },
  {
   "cell_type": "code",
   "execution_count": 16,
   "metadata": {},
   "outputs": [
    {
     "data": {
      "text/html": [
       "<div>\n",
       "<style scoped>\n",
       "    .dataframe tbody tr th:only-of-type {\n",
       "        vertical-align: middle;\n",
       "    }\n",
       "\n",
       "    .dataframe tbody tr th {\n",
       "        vertical-align: top;\n",
       "    }\n",
       "\n",
       "    .dataframe thead th {\n",
       "        text-align: right;\n",
       "    }\n",
       "</style>\n",
       "<table border=\"1\" class=\"dataframe\">\n",
       "  <thead>\n",
       "    <tr style=\"text-align: right;\">\n",
       "      <th></th>\n",
       "      <th>balcony</th>\n",
       "      <th>total_area</th>\n",
       "      <th>year</th>\n",
       "      <th>cost</th>\n",
       "      <th>age</th>\n",
       "    </tr>\n",
       "  </thead>\n",
       "  <tbody>\n",
       "    <tr>\n",
       "      <th>count</th>\n",
       "      <td>1824.000000</td>\n",
       "      <td>2261.000000</td>\n",
       "      <td>2038.00000</td>\n",
       "      <td>2.261000e+03</td>\n",
       "      <td>2038.00000</td>\n",
       "    </tr>\n",
       "    <tr>\n",
       "      <th>mean</th>\n",
       "      <td>1.010417</td>\n",
       "      <td>35.675807</td>\n",
       "      <td>1997.29735</td>\n",
       "      <td>2.779700e+06</td>\n",
       "      <td>21.70265</td>\n",
       "    </tr>\n",
       "    <tr>\n",
       "      <th>std</th>\n",
       "      <td>0.116641</td>\n",
       "      <td>6.918724</td>\n",
       "      <td>21.00202</td>\n",
       "      <td>7.488420e+05</td>\n",
       "      <td>21.00202</td>\n",
       "    </tr>\n",
       "    <tr>\n",
       "      <th>min</th>\n",
       "      <td>1.000000</td>\n",
       "      <td>20.000000</td>\n",
       "      <td>1925.00000</td>\n",
       "      <td>7.800000e+05</td>\n",
       "      <td>0.00000</td>\n",
       "    </tr>\n",
       "    <tr>\n",
       "      <th>25%</th>\n",
       "      <td>1.000000</td>\n",
       "      <td>31.000000</td>\n",
       "      <td>1977.00000</td>\n",
       "      <td>2.280000e+06</td>\n",
       "      <td>4.00000</td>\n",
       "    </tr>\n",
       "    <tr>\n",
       "      <th>50%</th>\n",
       "      <td>1.000000</td>\n",
       "      <td>35.000000</td>\n",
       "      <td>2008.00000</td>\n",
       "      <td>2.650000e+06</td>\n",
       "      <td>11.00000</td>\n",
       "    </tr>\n",
       "    <tr>\n",
       "      <th>75%</th>\n",
       "      <td>1.000000</td>\n",
       "      <td>40.000000</td>\n",
       "      <td>2015.00000</td>\n",
       "      <td>3.100000e+06</td>\n",
       "      <td>42.00000</td>\n",
       "    </tr>\n",
       "    <tr>\n",
       "      <th>max</th>\n",
       "      <td>3.000000</td>\n",
       "      <td>59.000000</td>\n",
       "      <td>2019.00000</td>\n",
       "      <td>5.300000e+06</td>\n",
       "      <td>94.00000</td>\n",
       "    </tr>\n",
       "  </tbody>\n",
       "</table>\n",
       "</div>"
      ],
      "text/plain": [
       "           balcony   total_area        year          cost         age\n",
       "count  1824.000000  2261.000000  2038.00000  2.261000e+03  2038.00000\n",
       "mean      1.010417    35.675807  1997.29735  2.779700e+06    21.70265\n",
       "std       0.116641     6.918724    21.00202  7.488420e+05    21.00202\n",
       "min       1.000000    20.000000  1925.00000  7.800000e+05     0.00000\n",
       "25%       1.000000    31.000000  1977.00000  2.280000e+06     4.00000\n",
       "50%       1.000000    35.000000  2008.00000  2.650000e+06    11.00000\n",
       "75%       1.000000    40.000000  2015.00000  3.100000e+06    42.00000\n",
       "max       3.000000    59.000000  2019.00000  5.300000e+06    94.00000"
      ]
     },
     "execution_count": 16,
     "metadata": {},
     "output_type": "execute_result"
    }
   ],
   "source": [
    "df.describe()"
   ]
  },
  {
   "cell_type": "markdown",
   "metadata": {},
   "source": [
    "# Fill empty values"
   ]
  },
  {
   "cell_type": "code",
   "execution_count": 17,
   "metadata": {},
   "outputs": [
    {
     "data": {
      "text/html": [
       "<div>\n",
       "<style scoped>\n",
       "    .dataframe tbody tr th:only-of-type {\n",
       "        vertical-align: middle;\n",
       "    }\n",
       "\n",
       "    .dataframe tbody tr th {\n",
       "        vertical-align: top;\n",
       "    }\n",
       "\n",
       "    .dataframe thead th {\n",
       "        text-align: right;\n",
       "    }\n",
       "</style>\n",
       "<table border=\"1\" class=\"dataframe\">\n",
       "  <thead>\n",
       "    <tr style=\"text-align: right;\">\n",
       "      <th></th>\n",
       "      <th>balcony</th>\n",
       "      <th>walls</th>\n",
       "      <th>total_area</th>\n",
       "      <th>district</th>\n",
       "      <th>year</th>\n",
       "      <th>cost</th>\n",
       "      <th>type_house</th>\n",
       "      <th>repair</th>\n",
       "      <th>age</th>\n",
       "    </tr>\n",
       "  </thead>\n",
       "  <tbody>\n",
       "    <tr>\n",
       "      <th>0</th>\n",
       "      <td>1.0</td>\n",
       "      <td>Панельный</td>\n",
       "      <td>30</td>\n",
       "      <td>Уралмаш</td>\n",
       "      <td>1963.0</td>\n",
       "      <td>2250000</td>\n",
       "      <td>NaN</td>\n",
       "      <td>Хорошее</td>\n",
       "      <td>56.0</td>\n",
       "    </tr>\n",
       "    <tr>\n",
       "      <th>1</th>\n",
       "      <td>NaN</td>\n",
       "      <td>Кирпичный</td>\n",
       "      <td>32</td>\n",
       "      <td>Эльмаш</td>\n",
       "      <td>1959.0</td>\n",
       "      <td>2090000</td>\n",
       "      <td>NaN</td>\n",
       "      <td>Хорошее</td>\n",
       "      <td>60.0</td>\n",
       "    </tr>\n",
       "    <tr>\n",
       "      <th>2</th>\n",
       "      <td>NaN</td>\n",
       "      <td>NaN</td>\n",
       "      <td>42</td>\n",
       "      <td>Ботанический</td>\n",
       "      <td>2017.0</td>\n",
       "      <td>2800000</td>\n",
       "      <td>NaN</td>\n",
       "      <td>В</td>\n",
       "      <td>2.0</td>\n",
       "    </tr>\n",
       "    <tr>\n",
       "      <th>3</th>\n",
       "      <td>1.0</td>\n",
       "      <td>NaN</td>\n",
       "      <td>29</td>\n",
       "      <td>Ю-З</td>\n",
       "      <td>NaN</td>\n",
       "      <td>2200000</td>\n",
       "      <td>NaN</td>\n",
       "      <td>NaN</td>\n",
       "      <td>NaN</td>\n",
       "    </tr>\n",
       "    <tr>\n",
       "      <th>4</th>\n",
       "      <td>1.0</td>\n",
       "      <td>Панельный</td>\n",
       "      <td>34</td>\n",
       "      <td>Компрессорный</td>\n",
       "      <td>2001.0</td>\n",
       "      <td>2000000</td>\n",
       "      <td>Улучшенной</td>\n",
       "      <td>Хорошее</td>\n",
       "      <td>18.0</td>\n",
       "    </tr>\n",
       "  </tbody>\n",
       "</table>\n",
       "</div>"
      ],
      "text/plain": [
       "   balcony      walls  total_area       district    year     cost  type_house  \\\n",
       "0      1.0  Панельный          30        Уралмаш  1963.0  2250000         NaN   \n",
       "1      NaN  Кирпичный          32         Эльмаш  1959.0  2090000         NaN   \n",
       "2      NaN        NaN          42   Ботанический  2017.0  2800000         NaN   \n",
       "3      1.0        NaN          29            Ю-З     NaN  2200000         NaN   \n",
       "4      1.0  Панельный          34  Компрессорный  2001.0  2000000  Улучшенной   \n",
       "\n",
       "    repair   age  \n",
       "0  Хорошее  56.0  \n",
       "1  Хорошее  60.0  \n",
       "2        В   2.0  \n",
       "3      NaN   NaN  \n",
       "4  Хорошее  18.0  "
      ]
     },
     "execution_count": 17,
     "metadata": {},
     "output_type": "execute_result"
    }
   ],
   "source": [
    "df.head()"
   ]
  },
  {
   "cell_type": "code",
   "execution_count": 18,
   "metadata": {},
   "outputs": [
    {
     "data": {
      "text/plain": [
       "(2261, 9)"
      ]
     },
     "execution_count": 18,
     "metadata": {},
     "output_type": "execute_result"
    }
   ],
   "source": [
    "df.shape"
   ]
  },
  {
   "cell_type": "code",
   "execution_count": null,
   "metadata": {},
   "outputs": [],
   "source": []
  },
  {
   "cell_type": "markdown",
   "metadata": {},
   "source": [
    "# Transformation"
   ]
  },
  {
   "cell_type": "code",
   "execution_count": 19,
   "metadata": {},
   "outputs": [],
   "source": [
    "district_map = {'автовокзал': 1, 'академический': 2, 'березит': 4,\n",
    "                'ботанический': 2, 'верхнемакарово': 4, 'виз': 1,\n",
    "                'вокзальный': 1, 'втузгородок': 1, 'горный щит': 4,\n",
    "                'елизавет': 3, 'жби': 2, 'завокзальный': 3, 'заречный': 1,\n",
    "                'изоплит': 4, 'исток': 4, 'калиновский': 4, 'карасьеозерск': 2,\n",
    "                'кольцово': 4, 'компрессорный': 3, 'лечебный': 3,\n",
    "                'малый исток': 4, 'медный': 4, 'н.сортировка': 2,\n",
    "                'нижнеисетский': 4, 'палкин.торфяник': 4, 'палкино': 4,\n",
    "                'палникс': 2, 'парковый': 1, 'пионерский': 1, 'полеводство': 4,\n",
    "                'птицефабрика': 4, 'рудный': 4, 'с.сортировка': 3, 'садовый': 4,\n",
    "                'северка': 4, 'семь ключей': 4, 'сибирский': 2,\n",
    "                'синие камни': 2, 'совхоз': 3, 'солнечный': 3,\n",
    "                'сулим.торфяник': 4, 'технопарк': 4, 'уктус': 2, 'унц': 3,\n",
    "                'уралмаш': 2, 'химмаш': 3, 'центр': 0, 'чермет': 3,\n",
    "                'чусовское озеро': 4, 'шабровский': 4, 'шарташ': 4,\n",
    "                'шарташский р-к': 1, 'широкая речка': 2, 'шувакиш': 4,\n",
    "                'эльмаш': 2, 'ю-з': 1}\n",
    "\n",
    "df.district = df.district.str.lower()\n",
    "df.replace({\"district\": district_map}, inplace=True)"
   ]
  },
  {
   "cell_type": "code",
   "execution_count": 20,
   "metadata": {},
   "outputs": [],
   "source": [
    "repair = {'В': 1,\n",
    "          'Требует': 0.6,\n",
    "          'Косметический': 0.7,\n",
    "          'Хорошее': 0.8}\n",
    "df.repair.fillna('Косметический', inplace=True)\n",
    "df.replace({\"repair\": repair}, inplace=True)"
   ]
  },
  {
   "cell_type": "code",
   "execution_count": 21,
   "metadata": {},
   "outputs": [],
   "source": [
    "walls_map = {'Кирпичный': 1.0,\n",
    "             'Кирпич': 1.0,\n",
    "             'Блочный': 0.8,\n",
    "             'Монолитный': 0.9,\n",
    "             'Деревянный': 0.4,\n",
    "             'Панельный': 0.8,\n",
    "             'Шлакоблочный': 0.6,\n",
    "             'Газозолоблоки': 0.9,\n",
    "             'Твин-блоки': 0.9,\n",
    "             'Твинблоки': 0.9,\n",
    "             'Пенозолобетон': 0.9,\n",
    "             'Бетонные': 0.8,\n",
    "             'Другой': 0.8,\n",
    "             'Железобетон': 0.8}\n",
    "mask = df[df['walls'].isna()][df.year >= 2010].index\n",
    "df.loc[mask, 'walls'] = 'Газозолоблоки'\n",
    "mask = df[df['walls'].isna()][df.year >= 2000].index\n",
    "df.loc[mask, 'walls'] = 'Бетонные'\n",
    "mask = df[df['walls'].isna()][df.year >= 1990].index\n",
    "df.loc[mask, 'walls'] = 'Панельный'\n",
    "mask = df[df['walls'].isna()].index\n",
    "df.loc[mask, 'walls'] = 'Шлакоблочный'\n",
    "\n",
    "df.replace({\"walls\": walls_map}, inplace=True)\n",
    "df.drop(columns=['year'],inplace=True)"
   ]
  },
  {
   "cell_type": "code",
   "execution_count": 22,
   "metadata": {},
   "outputs": [],
   "source": [
    "df.balcony.fillna(0,inplace=True)"
   ]
  },
  {
   "cell_type": "code",
   "execution_count": 23,
   "metadata": {},
   "outputs": [
    {
     "data": {
      "text/html": [
       "<div>\n",
       "<style scoped>\n",
       "    .dataframe tbody tr th:only-of-type {\n",
       "        vertical-align: middle;\n",
       "    }\n",
       "\n",
       "    .dataframe tbody tr th {\n",
       "        vertical-align: top;\n",
       "    }\n",
       "\n",
       "    .dataframe thead th {\n",
       "        text-align: right;\n",
       "    }\n",
       "</style>\n",
       "<table border=\"1\" class=\"dataframe\">\n",
       "  <thead>\n",
       "    <tr style=\"text-align: right;\">\n",
       "      <th></th>\n",
       "      <th>balcony</th>\n",
       "      <th>total_area</th>\n",
       "      <th>district</th>\n",
       "      <th>cost</th>\n",
       "      <th>repair</th>\n",
       "      <th>age</th>\n",
       "    </tr>\n",
       "  </thead>\n",
       "  <tbody>\n",
       "    <tr>\n",
       "      <th>count</th>\n",
       "      <td>2261.000000</td>\n",
       "      <td>2261.000000</td>\n",
       "      <td>2261.000000</td>\n",
       "      <td>2.261000e+03</td>\n",
       "      <td>2261.000000</td>\n",
       "      <td>2038.00000</td>\n",
       "    </tr>\n",
       "    <tr>\n",
       "      <th>mean</th>\n",
       "      <td>0.815126</td>\n",
       "      <td>35.675807</td>\n",
       "      <td>1.804069</td>\n",
       "      <td>2.779700e+06</td>\n",
       "      <td>0.806325</td>\n",
       "      <td>21.70265</td>\n",
       "    </tr>\n",
       "    <tr>\n",
       "      <th>std</th>\n",
       "      <td>0.412591</td>\n",
       "      <td>6.918724</td>\n",
       "      <td>0.855022</td>\n",
       "      <td>7.488420e+05</td>\n",
       "      <td>0.139277</td>\n",
       "      <td>21.00202</td>\n",
       "    </tr>\n",
       "    <tr>\n",
       "      <th>min</th>\n",
       "      <td>0.000000</td>\n",
       "      <td>20.000000</td>\n",
       "      <td>0.000000</td>\n",
       "      <td>7.800000e+05</td>\n",
       "      <td>0.600000</td>\n",
       "      <td>0.00000</td>\n",
       "    </tr>\n",
       "    <tr>\n",
       "      <th>25%</th>\n",
       "      <td>1.000000</td>\n",
       "      <td>31.000000</td>\n",
       "      <td>1.000000</td>\n",
       "      <td>2.280000e+06</td>\n",
       "      <td>0.700000</td>\n",
       "      <td>4.00000</td>\n",
       "    </tr>\n",
       "    <tr>\n",
       "      <th>50%</th>\n",
       "      <td>1.000000</td>\n",
       "      <td>35.000000</td>\n",
       "      <td>2.000000</td>\n",
       "      <td>2.650000e+06</td>\n",
       "      <td>0.800000</td>\n",
       "      <td>11.00000</td>\n",
       "    </tr>\n",
       "    <tr>\n",
       "      <th>75%</th>\n",
       "      <td>1.000000</td>\n",
       "      <td>40.000000</td>\n",
       "      <td>2.000000</td>\n",
       "      <td>3.100000e+06</td>\n",
       "      <td>1.000000</td>\n",
       "      <td>42.00000</td>\n",
       "    </tr>\n",
       "    <tr>\n",
       "      <th>max</th>\n",
       "      <td>3.000000</td>\n",
       "      <td>59.000000</td>\n",
       "      <td>4.000000</td>\n",
       "      <td>5.300000e+06</td>\n",
       "      <td>1.000000</td>\n",
       "      <td>94.00000</td>\n",
       "    </tr>\n",
       "  </tbody>\n",
       "</table>\n",
       "</div>"
      ],
      "text/plain": [
       "           balcony   total_area     district          cost       repair  \\\n",
       "count  2261.000000  2261.000000  2261.000000  2.261000e+03  2261.000000   \n",
       "mean      0.815126    35.675807     1.804069  2.779700e+06     0.806325   \n",
       "std       0.412591     6.918724     0.855022  7.488420e+05     0.139277   \n",
       "min       0.000000    20.000000     0.000000  7.800000e+05     0.600000   \n",
       "25%       1.000000    31.000000     1.000000  2.280000e+06     0.700000   \n",
       "50%       1.000000    35.000000     2.000000  2.650000e+06     0.800000   \n",
       "75%       1.000000    40.000000     2.000000  3.100000e+06     1.000000   \n",
       "max       3.000000    59.000000     4.000000  5.300000e+06     1.000000   \n",
       "\n",
       "              age  \n",
       "count  2038.00000  \n",
       "mean     21.70265  \n",
       "std      21.00202  \n",
       "min       0.00000  \n",
       "25%       4.00000  \n",
       "50%      11.00000  \n",
       "75%      42.00000  \n",
       "max      94.00000  "
      ]
     },
     "execution_count": 23,
     "metadata": {},
     "output_type": "execute_result"
    }
   ],
   "source": [
    "df.describe()"
   ]
  },
  {
   "cell_type": "code",
   "execution_count": 24,
   "metadata": {},
   "outputs": [],
   "source": [
    "\n",
    "df.drop(columns=['type_house'],inplace=True)\n",
    "df = df.astype(np.float64)\n",
    "df.dropna(inplace=True)"
   ]
  },
  {
   "cell_type": "code",
   "execution_count": 25,
   "metadata": {},
   "outputs": [
    {
     "data": {
      "text/html": [
       "<div>\n",
       "<style scoped>\n",
       "    .dataframe tbody tr th:only-of-type {\n",
       "        vertical-align: middle;\n",
       "    }\n",
       "\n",
       "    .dataframe tbody tr th {\n",
       "        vertical-align: top;\n",
       "    }\n",
       "\n",
       "    .dataframe thead th {\n",
       "        text-align: right;\n",
       "    }\n",
       "</style>\n",
       "<table border=\"1\" class=\"dataframe\">\n",
       "  <thead>\n",
       "    <tr style=\"text-align: right;\">\n",
       "      <th></th>\n",
       "      <th>balcony</th>\n",
       "      <th>walls</th>\n",
       "      <th>total_area</th>\n",
       "      <th>district</th>\n",
       "      <th>cost</th>\n",
       "      <th>repair</th>\n",
       "      <th>age</th>\n",
       "    </tr>\n",
       "  </thead>\n",
       "  <tbody>\n",
       "    <tr>\n",
       "      <th>count</th>\n",
       "      <td>2038.000000</td>\n",
       "      <td>2038.000000</td>\n",
       "      <td>2038.000000</td>\n",
       "      <td>2038.000000</td>\n",
       "      <td>2.038000e+03</td>\n",
       "      <td>2038.000000</td>\n",
       "      <td>2038.00000</td>\n",
       "    </tr>\n",
       "    <tr>\n",
       "      <th>mean</th>\n",
       "      <td>0.823847</td>\n",
       "      <td>0.905839</td>\n",
       "      <td>35.800294</td>\n",
       "      <td>1.795388</td>\n",
       "      <td>2.799436e+06</td>\n",
       "      <td>0.808832</td>\n",
       "      <td>21.70265</td>\n",
       "    </tr>\n",
       "    <tr>\n",
       "      <th>std</th>\n",
       "      <td>0.408405</td>\n",
       "      <td>0.087176</td>\n",
       "      <td>6.954855</td>\n",
       "      <td>0.851715</td>\n",
       "      <td>7.524326e+05</td>\n",
       "      <td>0.140238</td>\n",
       "      <td>21.00202</td>\n",
       "    </tr>\n",
       "    <tr>\n",
       "      <th>min</th>\n",
       "      <td>0.000000</td>\n",
       "      <td>0.400000</td>\n",
       "      <td>20.000000</td>\n",
       "      <td>0.000000</td>\n",
       "      <td>7.800000e+05</td>\n",
       "      <td>0.600000</td>\n",
       "      <td>0.00000</td>\n",
       "    </tr>\n",
       "    <tr>\n",
       "      <th>25%</th>\n",
       "      <td>1.000000</td>\n",
       "      <td>0.800000</td>\n",
       "      <td>31.000000</td>\n",
       "      <td>1.000000</td>\n",
       "      <td>2.300000e+06</td>\n",
       "      <td>0.700000</td>\n",
       "      <td>4.00000</td>\n",
       "    </tr>\n",
       "    <tr>\n",
       "      <th>50%</th>\n",
       "      <td>1.000000</td>\n",
       "      <td>0.900000</td>\n",
       "      <td>35.000000</td>\n",
       "      <td>2.000000</td>\n",
       "      <td>2.680000e+06</td>\n",
       "      <td>0.800000</td>\n",
       "      <td>11.00000</td>\n",
       "    </tr>\n",
       "    <tr>\n",
       "      <th>75%</th>\n",
       "      <td>1.000000</td>\n",
       "      <td>1.000000</td>\n",
       "      <td>40.000000</td>\n",
       "      <td>2.000000</td>\n",
       "      <td>3.116000e+06</td>\n",
       "      <td>1.000000</td>\n",
       "      <td>42.00000</td>\n",
       "    </tr>\n",
       "    <tr>\n",
       "      <th>max</th>\n",
       "      <td>3.000000</td>\n",
       "      <td>1.000000</td>\n",
       "      <td>59.000000</td>\n",
       "      <td>4.000000</td>\n",
       "      <td>5.300000e+06</td>\n",
       "      <td>1.000000</td>\n",
       "      <td>94.00000</td>\n",
       "    </tr>\n",
       "  </tbody>\n",
       "</table>\n",
       "</div>"
      ],
      "text/plain": [
       "           balcony        walls   total_area     district          cost  \\\n",
       "count  2038.000000  2038.000000  2038.000000  2038.000000  2.038000e+03   \n",
       "mean      0.823847     0.905839    35.800294     1.795388  2.799436e+06   \n",
       "std       0.408405     0.087176     6.954855     0.851715  7.524326e+05   \n",
       "min       0.000000     0.400000    20.000000     0.000000  7.800000e+05   \n",
       "25%       1.000000     0.800000    31.000000     1.000000  2.300000e+06   \n",
       "50%       1.000000     0.900000    35.000000     2.000000  2.680000e+06   \n",
       "75%       1.000000     1.000000    40.000000     2.000000  3.116000e+06   \n",
       "max       3.000000     1.000000    59.000000     4.000000  5.300000e+06   \n",
       "\n",
       "            repair         age  \n",
       "count  2038.000000  2038.00000  \n",
       "mean      0.808832    21.70265  \n",
       "std       0.140238    21.00202  \n",
       "min       0.600000     0.00000  \n",
       "25%       0.700000     4.00000  \n",
       "50%       0.800000    11.00000  \n",
       "75%       1.000000    42.00000  \n",
       "max       1.000000    94.00000  "
      ]
     },
     "execution_count": 25,
     "metadata": {},
     "output_type": "execute_result"
    }
   ],
   "source": [
    "df.describe()"
   ]
  },
  {
   "cell_type": "code",
   "execution_count": 26,
   "metadata": {},
   "outputs": [
    {
     "data": {
      "image/png": "[encoded data removed]",
      "text/plain": [
       "<Figure size 1080x792 with 2 Axes>"
      ]
     },
     "metadata": {},
     "output_type": "display_data"
    }
   ],
   "source": [
    "def show_correlation(df):\n",
    "    sns.set(style=\"whitegrid\")\n",
    "    corr = df.corr() * 100\n",
    "\n",
    "    # Select upper triangle of correlation matrix\n",
    "    mask = np.zeros_like(corr, dtype=np.bool)\n",
    "    mask[np.triu_indices_from(mask)] = True\n",
    "\n",
    "    # Set up the matplotlib figure\n",
    "    f, ax = plt.subplots(figsize=(15, 11))\n",
    "\n",
    "    # Generate a custom diverging colormap\n",
    "    cmap = sns.diverging_palette(220, 10)\n",
    "\n",
    "    # Draw the heatmap with the mask and correct aspect ratio\n",
    "    sns.heatmap(corr, mask=mask, cmap=cmap, center=0,\n",
    "                linewidths=1, cbar_kws={\"shrink\": .7}, annot=True,\n",
    "                fmt=\".2f\")\n",
    "    plot.show()\n",
    "    # df[columns] = scale(df[columns])\n",
    "    return df\n",
    "df1 = show_correlation(df.drop(columns=['cost']))"
   ]
  },
  {
   "cell_type": "code",
   "execution_count": 27,
   "metadata": {},
   "outputs": [
    {
     "data": {
      "text/plain": [
       "array([30., 32., 42., ..., 44., 45., 40.])"
      ]
     },
     "execution_count": 27,
     "metadata": {},
     "output_type": "execute_result"
    }
   ],
   "source": [
    "df['total_area'].values"
   ]
  },
  {
   "cell_type": "code",
   "execution_count": 28,
   "metadata": {},
   "outputs": [
    {
     "data": {
      "text/plain": [
       "(0.0, 1.0, 0, array([30., 32., 42., ..., 44., 45., 40.]))"
      ]
     },
     "execution_count": 28,
     "metadata": {},
     "output_type": "execute_result"
    }
   ],
   "source": [
    "from sklearn.feature_selection import chi2\n",
    "from scipy.stats import chi2_contingency\n",
    "chi2_contingency(df['total_area'], df['district'])"
   ]
  },
  {
   "cell_type": "code",
   "execution_count": 29,
   "metadata": {},
   "outputs": [
    {
     "data": {
      "text/plain": [
       "<matplotlib.axes._subplots.AxesSubplot at 0x7f0d53fed748>"
      ]
     },
     "execution_count": 29,
     "metadata": {},
     "output_type": "execute_result"
    },
    {
     "data": {
      "image/png": "[encoded data removed]",
      "text/plain": [
       "<Figure size 432x432 with 2 Axes>"
      ]
     },
     "metadata": {},
     "output_type": "display_data"
    }
   ],
   "source": [
    "plt.figure(figsize=(6,6))\n",
    "corr = df.corr()*100.0\n",
    "sns.heatmap(corr[['cost']],\n",
    "            cmap= sns.diverging_palette(220, 10),\n",
    "            center=0,\n",
    "            linewidths=1, cbar_kws={\"shrink\": .7}, annot=True,\n",
    "            fmt=\".2f\")"
   ]
  },
  {
   "cell_type": "code",
   "execution_count": 30,
   "metadata": {},
   "outputs": [
    {
     "data": {
      "text/html": [
       "<div>\n",
       "<style scoped>\n",
       "    .dataframe tbody tr th:only-of-type {\n",
       "        vertical-align: middle;\n",
       "    }\n",
       "\n",
       "    .dataframe tbody tr th {\n",
       "        vertical-align: top;\n",
       "    }\n",
       "\n",
       "    .dataframe thead th {\n",
       "        text-align: right;\n",
       "    }\n",
       "</style>\n",
       "<table border=\"1\" class=\"dataframe\">\n",
       "  <thead>\n",
       "    <tr style=\"text-align: right;\">\n",
       "      <th></th>\n",
       "      <th>cost</th>\n",
       "    </tr>\n",
       "  </thead>\n",
       "  <tbody>\n",
       "    <tr>\n",
       "      <th>balcony</th>\n",
       "      <td>20.679068</td>\n",
       "    </tr>\n",
       "    <tr>\n",
       "      <th>walls</th>\n",
       "      <td>13.607172</td>\n",
       "    </tr>\n",
       "    <tr>\n",
       "      <th>total_area</th>\n",
       "      <td>73.391879</td>\n",
       "    </tr>\n",
       "    <tr>\n",
       "      <th>district</th>\n",
       "      <td>-41.234944</td>\n",
       "    </tr>\n",
       "    <tr>\n",
       "      <th>cost</th>\n",
       "      <td>100.000000</td>\n",
       "    </tr>\n",
       "    <tr>\n",
       "      <th>repair</th>\n",
       "      <td>16.053086</td>\n",
       "    </tr>\n",
       "    <tr>\n",
       "      <th>age</th>\n",
       "      <td>-44.282268</td>\n",
       "    </tr>\n",
       "  </tbody>\n",
       "</table>\n",
       "</div>"
      ],
      "text/plain": [
       "                  cost\n",
       "balcony      20.679068\n",
       "walls        13.607172\n",
       "total_area   73.391879\n",
       "district    -41.234944\n",
       "cost        100.000000\n",
       "repair       16.053086\n",
       "age         -44.282268"
      ]
     },
     "execution_count": 30,
     "metadata": {},
     "output_type": "execute_result"
    }
   ],
   "source": [
    "corr[['cost']]"
   ]
  },
  {
   "cell_type": "code",
   "execution_count": 31,
   "metadata": {},
   "outputs": [],
   "source": [
    "from sklearn.model_selection import train_test_split \n",
    "\n",
    "\n",
    "y = df.cost\n",
    "X = df.drop(columns=['cost'])\n",
    "X_train, X_test, y_train, y_test = train_test_split(X, y, test_size=0.2, random_state=42)"
   ]
  },
  {
   "cell_type": "markdown",
   "metadata": {},
   "source": [
    "# Naive predict"
   ]
  },
  {
   "cell_type": "code",
   "execution_count": 32,
   "metadata": {},
   "outputs": [
    {
     "data": {
      "text/html": [
       "<div>\n",
       "<style scoped>\n",
       "    .dataframe tbody tr th:only-of-type {\n",
       "        vertical-align: middle;\n",
       "    }\n",
       "\n",
       "    .dataframe tbody tr th {\n",
       "        vertical-align: top;\n",
       "    }\n",
       "\n",
       "    .dataframe thead th {\n",
       "        text-align: right;\n",
       "    }\n",
       "</style>\n",
       "<table border=\"1\" class=\"dataframe\">\n",
       "  <thead>\n",
       "    <tr style=\"text-align: right;\">\n",
       "      <th></th>\n",
       "      <th>balcony</th>\n",
       "      <th>walls</th>\n",
       "      <th>total_area</th>\n",
       "      <th>district</th>\n",
       "      <th>repair</th>\n",
       "      <th>age</th>\n",
       "    </tr>\n",
       "  </thead>\n",
       "  <tbody>\n",
       "    <tr>\n",
       "      <th>count</th>\n",
       "      <td>2038.000000</td>\n",
       "      <td>2038.000000</td>\n",
       "      <td>2038.000000</td>\n",
       "      <td>2038.000000</td>\n",
       "      <td>2038.000000</td>\n",
       "      <td>2038.00000</td>\n",
       "    </tr>\n",
       "    <tr>\n",
       "      <th>mean</th>\n",
       "      <td>0.823847</td>\n",
       "      <td>0.905839</td>\n",
       "      <td>35.800294</td>\n",
       "      <td>1.795388</td>\n",
       "      <td>0.808832</td>\n",
       "      <td>21.70265</td>\n",
       "    </tr>\n",
       "    <tr>\n",
       "      <th>std</th>\n",
       "      <td>0.408405</td>\n",
       "      <td>0.087176</td>\n",
       "      <td>6.954855</td>\n",
       "      <td>0.851715</td>\n",
       "      <td>0.140238</td>\n",
       "      <td>21.00202</td>\n",
       "    </tr>\n",
       "    <tr>\n",
       "      <th>min</th>\n",
       "      <td>0.000000</td>\n",
       "      <td>0.400000</td>\n",
       "      <td>20.000000</td>\n",
       "      <td>0.000000</td>\n",
       "      <td>0.600000</td>\n",
       "      <td>0.00000</td>\n",
       "    </tr>\n",
       "    <tr>\n",
       "      <th>25%</th>\n",
       "      <td>1.000000</td>\n",
       "      <td>0.800000</td>\n",
       "      <td>31.000000</td>\n",
       "      <td>1.000000</td>\n",
       "      <td>0.700000</td>\n",
       "      <td>4.00000</td>\n",
       "    </tr>\n",
       "    <tr>\n",
       "      <th>50%</th>\n",
       "      <td>1.000000</td>\n",
       "      <td>0.900000</td>\n",
       "      <td>35.000000</td>\n",
       "      <td>2.000000</td>\n",
       "      <td>0.800000</td>\n",
       "      <td>11.00000</td>\n",
       "    </tr>\n",
       "    <tr>\n",
       "      <th>75%</th>\n",
       "      <td>1.000000</td>\n",
       "      <td>1.000000</td>\n",
       "      <td>40.000000</td>\n",
       "      <td>2.000000</td>\n",
       "      <td>1.000000</td>\n",
       "      <td>42.00000</td>\n",
       "    </tr>\n",
       "    <tr>\n",
       "      <th>max</th>\n",
       "      <td>3.000000</td>\n",
       "      <td>1.000000</td>\n",
       "      <td>59.000000</td>\n",
       "      <td>4.000000</td>\n",
       "      <td>1.000000</td>\n",
       "      <td>94.00000</td>\n",
       "    </tr>\n",
       "  </tbody>\n",
       "</table>\n",
       "</div>"
      ],
      "text/plain": [
       "           balcony        walls   total_area     district       repair  \\\n",
       "count  2038.000000  2038.000000  2038.000000  2038.000000  2038.000000   \n",
       "mean      0.823847     0.905839    35.800294     1.795388     0.808832   \n",
       "std       0.408405     0.087176     6.954855     0.851715     0.140238   \n",
       "min       0.000000     0.400000    20.000000     0.000000     0.600000   \n",
       "25%       1.000000     0.800000    31.000000     1.000000     0.700000   \n",
       "50%       1.000000     0.900000    35.000000     2.000000     0.800000   \n",
       "75%       1.000000     1.000000    40.000000     2.000000     1.000000   \n",
       "max       3.000000     1.000000    59.000000     4.000000     1.000000   \n",
       "\n",
       "              age  \n",
       "count  2038.00000  \n",
       "mean     21.70265  \n",
       "std      21.00202  \n",
       "min       0.00000  \n",
       "25%       4.00000  \n",
       "50%      11.00000  \n",
       "75%      42.00000  \n",
       "max      94.00000  "
      ]
     },
     "execution_count": 32,
     "metadata": {},
     "output_type": "execute_result"
    }
   ],
   "source": [
    "X.describe()\n",
    "\n"
   ]
  },
  {
   "cell_type": "code",
   "execution_count": 33,
   "metadata": {},
   "outputs": [
    {
     "name": "stdout",
     "output_type": "stream",
     "text": [
      "Score on LinearRegression is 76.67\n"
     ]
    },
    {
     "data": {
      "text/plain": [
       "76.67"
      ]
     },
     "execution_count": 33,
     "metadata": {},
     "output_type": "execute_result"
    }
   ],
   "source": [
    "\n",
    "def predict(X, y_test, model):\n",
    "    y = model.predict(X)\n",
    "    score = round((r2_score(y_test, y) * 100), 2)\n",
    "    print(f'Score on {model.__class__.__name__} is {score}')\n",
    "    return score\n",
    "\n",
    "def train_model(X, y, regressor):\n",
    "    model = regressor.fit(X, y)\n",
    "    return model\n",
    "\n",
    "from sklearn.linear_model import LinearRegression\n",
    "regressor = LinearRegression()\n",
    "model = train_model(X_train, y_train, regressor)\n",
    "predict(X_test, y_test, model)"
   ]
  },
  {
   "cell_type": "code",
   "execution_count": null,
   "metadata": {},
   "outputs": [],
   "source": [
    "\n"
   ]
  },
  {
   "cell_type": "code",
   "execution_count": 34,
   "metadata": {},
   "outputs": [
    {
     "name": "stdout",
     "output_type": "stream",
     "text": [
      "Crossvaladaion accuracy on LinearRegression is 73.32300000000001\n"
     ]
    },
    {
     "data": {
      "text/plain": [
       "73.32300000000001"
      ]
     },
     "execution_count": 34,
     "metadata": {},
     "output_type": "execute_result"
    }
   ],
   "source": [
    "def do_cross_validation(X, y, model):\n",
    "    from sklearn.model_selection import KFold, cross_val_score\n",
    "    regressor_name = model.__class__.__name__\n",
    "    fold = KFold(n_splits=10, shuffle=True, random_state=0)\n",
    "    scores_on_this_split = cross_val_score(estimator=model, X=X,\n",
    "                                           y=y, cv=fold, scoring='r2')\n",
    "    scores_on_this_split = np.round(scores_on_this_split * 100, 2)\n",
    "\n",
    "    mean_accuracy = scores_on_this_split.mean()\n",
    "    print(f'Crossvaladaion accuracy on {model.__class__.__name__} is {mean_accuracy}')\n",
    "    return mean_accuracy\n",
    "do_cross_validation(X, y, model)"
   ]
  },
  {
   "cell_type": "code",
   "execution_count": 35,
   "metadata": {},
   "outputs": [
    {
     "data": {
      "text/html": [
       "<div>\n",
       "<style scoped>\n",
       "    .dataframe tbody tr th:only-of-type {\n",
       "        vertical-align: middle;\n",
       "    }\n",
       "\n",
       "    .dataframe tbody tr th {\n",
       "        vertical-align: top;\n",
       "    }\n",
       "\n",
       "    .dataframe thead th {\n",
       "        text-align: right;\n",
       "    }\n",
       "</style>\n",
       "<table border=\"1\" class=\"dataframe\">\n",
       "  <thead>\n",
       "    <tr style=\"text-align: right;\">\n",
       "      <th></th>\n",
       "      <th>balcony</th>\n",
       "      <th>walls</th>\n",
       "      <th>total_area</th>\n",
       "      <th>district</th>\n",
       "      <th>cost</th>\n",
       "      <th>repair</th>\n",
       "      <th>age</th>\n",
       "    </tr>\n",
       "  </thead>\n",
       "  <tbody>\n",
       "    <tr>\n",
       "      <th>count</th>\n",
       "      <td>2038.000000</td>\n",
       "      <td>2038.000000</td>\n",
       "      <td>2038.000000</td>\n",
       "      <td>2038.000000</td>\n",
       "      <td>2.038000e+03</td>\n",
       "      <td>2038.000000</td>\n",
       "      <td>2038.00000</td>\n",
       "    </tr>\n",
       "    <tr>\n",
       "      <th>mean</th>\n",
       "      <td>0.823847</td>\n",
       "      <td>0.905839</td>\n",
       "      <td>35.800294</td>\n",
       "      <td>1.795388</td>\n",
       "      <td>2.799436e+06</td>\n",
       "      <td>0.808832</td>\n",
       "      <td>21.70265</td>\n",
       "    </tr>\n",
       "    <tr>\n",
       "      <th>std</th>\n",
       "      <td>0.408405</td>\n",
       "      <td>0.087176</td>\n",
       "      <td>6.954855</td>\n",
       "      <td>0.851715</td>\n",
       "      <td>7.524326e+05</td>\n",
       "      <td>0.140238</td>\n",
       "      <td>21.00202</td>\n",
       "    </tr>\n",
       "    <tr>\n",
       "      <th>min</th>\n",
       "      <td>0.000000</td>\n",
       "      <td>0.400000</td>\n",
       "      <td>20.000000</td>\n",
       "      <td>0.000000</td>\n",
       "      <td>7.800000e+05</td>\n",
       "      <td>0.600000</td>\n",
       "      <td>0.00000</td>\n",
       "    </tr>\n",
       "    <tr>\n",
       "      <th>25%</th>\n",
       "      <td>1.000000</td>\n",
       "      <td>0.800000</td>\n",
       "      <td>31.000000</td>\n",
       "      <td>1.000000</td>\n",
       "      <td>2.300000e+06</td>\n",
       "      <td>0.700000</td>\n",
       "      <td>4.00000</td>\n",
       "    </tr>\n",
       "    <tr>\n",
       "      <th>50%</th>\n",
       "      <td>1.000000</td>\n",
       "      <td>0.900000</td>\n",
       "      <td>35.000000</td>\n",
       "      <td>2.000000</td>\n",
       "      <td>2.680000e+06</td>\n",
       "      <td>0.800000</td>\n",
       "      <td>11.00000</td>\n",
       "    </tr>\n",
       "    <tr>\n",
       "      <th>75%</th>\n",
       "      <td>1.000000</td>\n",
       "      <td>1.000000</td>\n",
       "      <td>40.000000</td>\n",
       "      <td>2.000000</td>\n",
       "      <td>3.116000e+06</td>\n",
       "      <td>1.000000</td>\n",
       "      <td>42.00000</td>\n",
       "    </tr>\n",
       "    <tr>\n",
       "      <th>max</th>\n",
       "      <td>3.000000</td>\n",
       "      <td>1.000000</td>\n",
       "      <td>59.000000</td>\n",
       "      <td>4.000000</td>\n",
       "      <td>5.300000e+06</td>\n",
       "      <td>1.000000</td>\n",
       "      <td>94.00000</td>\n",
       "    </tr>\n",
       "  </tbody>\n",
       "</table>\n",
       "</div>"
      ],
      "text/plain": [
       "           balcony        walls   total_area     district          cost  \\\n",
       "count  2038.000000  2038.000000  2038.000000  2038.000000  2.038000e+03   \n",
       "mean      0.823847     0.905839    35.800294     1.795388  2.799436e+06   \n",
       "std       0.408405     0.087176     6.954855     0.851715  7.524326e+05   \n",
       "min       0.000000     0.400000    20.000000     0.000000  7.800000e+05   \n",
       "25%       1.000000     0.800000    31.000000     1.000000  2.300000e+06   \n",
       "50%       1.000000     0.900000    35.000000     2.000000  2.680000e+06   \n",
       "75%       1.000000     1.000000    40.000000     2.000000  3.116000e+06   \n",
       "max       3.000000     1.000000    59.000000     4.000000  5.300000e+06   \n",
       "\n",
       "            repair         age  \n",
       "count  2038.000000  2038.00000  \n",
       "mean      0.808832    21.70265  \n",
       "std       0.140238    21.00202  \n",
       "min       0.600000     0.00000  \n",
       "25%       0.700000     4.00000  \n",
       "50%       0.800000    11.00000  \n",
       "75%       1.000000    42.00000  \n",
       "max       1.000000    94.00000  "
      ]
     },
     "execution_count": 35,
     "metadata": {},
     "output_type": "execute_result"
    }
   ],
   "source": [
    "df.describe()"
   ]
  },
  {
   "cell_type": "code",
   "execution_count": 36,
   "metadata": {},
   "outputs": [
    {
     "data": {
      "image/png": "[encoded data removed]",
      "text/plain": [
       "<Figure size 720x720 with 1 Axes>"
      ]
     },
     "metadata": {},
     "output_type": "display_data"
    }
   ],
   "source": [
    "def estimate_model(model):\n",
    "    \n",
    "    sns.set(style=\"white\", context=\"talk\")\n",
    "    f, ax = plot.subplots(1, 1, figsize=(10, 10), sharex=True)\n",
    "    sns.barplot(x=model.coef_, y=X.columns, palette=\"vlag\", ax=ax)\n",
    "    for i, v in enumerate(model.coef_.astype(int)):\n",
    "        ax.text(v + 3, i + .25, str(v), color='black')\n",
    "\n",
    "    ax.set_title(f\"Coefficients\")\n",
    "estimate_model(regressor)"
   ]
  },
  {
   "cell_type": "code",
   "execution_count": null,
   "metadata": {},
   "outputs": [],
   "source": []
  },
  {
   "cell_type": "code",
   "execution_count": null,
   "metadata": {},
   "outputs": [],
   "source": []
  }
 ],
 "metadata": {
  "kernelspec": {
   "display_name": "Python 3",
   "language": "python",
   "name": "python3"
  },
  "language_info": {
   "codemirror_mode": {
    "name": "ipython",
    "version": 3
   },
   "file_extension": ".py",
   "mimetype": "text/x-python",
   "name": "python",
   "nbconvert_exporter": "python",
   "pygments_lexer": "ipython3",
   "version": "3.7.3"
  }
 },
 "nbformat": 4,
 "nbformat_minor": 2
}
